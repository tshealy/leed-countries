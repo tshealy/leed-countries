{
 "cells": [
  {
   "cell_type": "code",
   "execution_count": 1,
   "metadata": {
    "collapsed": true
   },
   "outputs": [],
   "source": [
    "import pandas as pd\n",
    "import itertools\n",
    "import numpy as np\n",
    "from scipy import stats\n",
    "from scipy.stats import ttest_ind\n",
    "import matplotlib.pyplot as plt\n",
    "import seaborn\n",
    "%matplotlib inline"
   ]
  },
  {
   "cell_type": "code",
   "execution_count": 2,
   "metadata": {
    "collapsed": false
   },
   "outputs": [
    {
     "name": "stderr",
     "output_type": "stream",
     "text": [
      "/Users/trippshealy/Gdrive/research/leed_countries/.direnv/python-3.4.3/lib/python3.4/site-packages/pandas/io/parsers.py:1170: DtypeWarning: Columns (9) have mixed types. Specify dtype option on import or set low_memory=False.\n",
      "  data = self._reader.read(nrows)\n"
     ]
    }
   ],
   "source": [
    "buildings_all = pd.read_csv(\"original_data/PublicLEEDProjectDirectory.csv\", skiprows=3, encoding=\"ISO-8859-1\")\n",
    "buildings_all = buildings_all[buildings_all['Isconfidential'] == 'No']\n",
    "buildings_2009 = buildings_all[buildings_all[\"LEEDSystemVersionDisplayName\"] == \"LEED-NC v2009\"]"
   ]
  },
  {
   "cell_type": "code",
   "execution_count": 3,
   "metadata": {
    "collapsed": true
   },
   "outputs": [],
   "source": [
    "def my_filter_2009(df):\n",
    "    countries = df.dropna(subset = ['PointsAchieved'])\n",
    "    countries['PointsAchieved'] = countries['PointsAchieved'].convert_objects(convert_numeric=True)\n",
    "    countries = countries[countries['PointsAchieved'] > 39]\n",
    "    return(countries)"
   ]
  },
  {
   "cell_type": "code",
   "execution_count": 4,
   "metadata": {
    "collapsed": false
   },
   "outputs": [
    {
     "name": "stderr",
     "output_type": "stream",
     "text": [
      "/Users/trippshealy/Gdrive/research/leed_countries/.direnv/python-3.4.3/lib/python3.4/site-packages/ipykernel/__main__.py:3: SettingWithCopyWarning: \n",
      "A value is trying to be set on a copy of a slice from a DataFrame.\n",
      "Try using .loc[row_indexer,col_indexer] = value instead\n",
      "\n",
      "See the the caveats in the documentation: http://pandas.pydata.org/pandas-docs/stable/indexing.html#indexing-view-versus-copy\n",
      "  app.launch_new_instance()\n"
     ]
    }
   ],
   "source": [
    "filtered = my_filter_2009(buildings_2009)"
   ]
  },
  {
   "cell_type": "code",
   "execution_count": 5,
   "metadata": {
    "collapsed": true
   },
   "outputs": [],
   "source": [
    "turkey = filtered[filtered['Country'] == 'TR']\n",
    "usa = filtered[filtered['Country'] == 'US']\n",
    "china = filtered[filtered['Country'] == 'CN']\n",
    "brazil = filtered[filtered['Country'] == 'BR']"
   ]
  },
  {
   "cell_type": "code",
   "execution_count": 6,
   "metadata": {
    "collapsed": true
   },
   "outputs": [],
   "source": [
    "def filter_owner(df):\n",
    "    return(df[df[\"OwnerTypes\"] == 'Corporate: Privately Held'])"
   ]
  },
  {
   "cell_type": "code",
   "execution_count": 7,
   "metadata": {
    "collapsed": true
   },
   "outputs": [],
   "source": [
    "turkey_private = filter_owner(turkey)\n",
    "usa_private = filter_owner(usa)\n",
    "china_private = filter_owner(china)\n",
    "brazil_private = filter_owner(brazil)"
   ]
  },
  {
   "cell_type": "code",
   "execution_count": 8,
   "metadata": {
    "collapsed": true
   },
   "outputs": [],
   "source": [
    "# turkey_private.to_csv('turkey_private.csv')\n",
    "# usa_private.to_csv('usa_private.csv')\n",
    "# china_private.to_csv('china_private.csv')\n",
    "# brazil_private.to_csv('brazil_private.csv')"
   ]
  },
  {
   "cell_type": "code",
   "execution_count": 10,
   "metadata": {
    "collapsed": true
   },
   "outputs": [],
   "source": [
    "# turkey_private['ID'].to_csv('turkey_private_ids.csv')\n",
    "# usa_private['ID'].to_csv('usa_private_ids.csv')\n",
    "# china_private['ID'].to_csv('china_private_ids.csv')\n",
    "# brazil_private['ID'].to_csv('brazil_privat_ids.csv')"
   ]
  },
  {
   "cell_type": "code",
   "execution_count": 8,
   "metadata": {
    "collapsed": false
   },
   "outputs": [
    {
     "data": {
      "text/html": [
       "<div>\n",
       "<table border=\"1\" class=\"dataframe\">\n",
       "  <thead>\n",
       "    <tr style=\"text-align: right;\">\n",
       "      <th></th>\n",
       "      <th>ID</th>\n",
       "      <th>Isconfidential</th>\n",
       "      <th>ProjectName</th>\n",
       "      <th>Street</th>\n",
       "      <th>City</th>\n",
       "      <th>State</th>\n",
       "      <th>Zipcode</th>\n",
       "      <th>Country</th>\n",
       "      <th>LEEDSystemVersionDisplayName</th>\n",
       "      <th>PointsAchieved</th>\n",
       "      <th>CertLevel</th>\n",
       "      <th>CertDate</th>\n",
       "      <th>IsCertified</th>\n",
       "      <th>OwnerTypes</th>\n",
       "      <th>GrossSqFoot</th>\n",
       "      <th>TotalPropArea</th>\n",
       "      <th>ProjectTypes</th>\n",
       "      <th>OwnerOrganization</th>\n",
       "      <th>RegistrationDate</th>\n",
       "    </tr>\n",
       "  </thead>\n",
       "  <tbody>\n",
       "    <tr>\n",
       "      <th>55568</th>\n",
       "      <td>1000002936</td>\n",
       "      <td>No</td>\n",
       "      <td>SCHNEIDER ELECTRIC TRANSFORMER FACTORY</td>\n",
       "      <td>TOSB Cayirova Kocaeli</td>\n",
       "      <td>Kocaeli</td>\n",
       "      <td>Kocaeli</td>\n",
       "      <td>41480</td>\n",
       "      <td>TR</td>\n",
       "      <td>LEED-NC v2009</td>\n",
       "      <td>61</td>\n",
       "      <td>Gold</td>\n",
       "      <td>9/12/11 0:00</td>\n",
       "      <td>Yes</td>\n",
       "      <td>Corporate: Privately Held</td>\n",
       "      <td>368011.0</td>\n",
       "      <td>749276</td>\n",
       "      <td>Industrial Manufacturing</td>\n",
       "      <td>SCHNEIDER ENERGY INDUSTRY A.S.</td>\n",
       "      <td>12/9/09 0:00</td>\n",
       "    </tr>\n",
       "    <tr>\n",
       "      <th>55980</th>\n",
       "      <td>1000003448</td>\n",
       "      <td>No</td>\n",
       "      <td>Li Fung Centre</td>\n",
       "      <td>Yenibosna</td>\n",
       "      <td>Istanbul</td>\n",
       "      <td>Istanbul</td>\n",
       "      <td>34550</td>\n",
       "      <td>TR</td>\n",
       "      <td>LEED-NC v2009</td>\n",
       "      <td>54</td>\n",
       "      <td>Silver</td>\n",
       "      <td>7/17/11 0:00</td>\n",
       "      <td>Yes</td>\n",
       "      <td>Corporate: Privately Held</td>\n",
       "      <td>86013.0</td>\n",
       "      <td>184290</td>\n",
       "      <td>Office: Administrative/Professional</td>\n",
       "      <td>Li Fung</td>\n",
       "      <td>12/25/09 0:00</td>\n",
       "    </tr>\n",
       "    <tr>\n",
       "      <th>56020</th>\n",
       "      <td>1000003493</td>\n",
       "      <td>No</td>\n",
       "      <td>ESER HOLDING HEADQUARTERS</td>\n",
       "      <td>Turan Gunes Bulv. Cezayir Cad. 718. Sokak No:14</td>\n",
       "      <td>Ankara</td>\n",
       "      <td>Ankara</td>\n",
       "      <td>6550</td>\n",
       "      <td>TR</td>\n",
       "      <td>LEED-NC v2009</td>\n",
       "      <td>92</td>\n",
       "      <td>Platinum</td>\n",
       "      <td>2/14/11 0:00</td>\n",
       "      <td>Yes</td>\n",
       "      <td>Corporate: Privately Held</td>\n",
       "      <td>75039.0</td>\n",
       "      <td>25241</td>\n",
       "      <td>Office: Administrative/Professional</td>\n",
       "      <td>Eser Holding</td>\n",
       "      <td>12/29/09 0:00</td>\n",
       "    </tr>\n",
       "    <tr>\n",
       "      <th>58487</th>\n",
       "      <td>1000006498</td>\n",
       "      <td>No</td>\n",
       "      <td>GELAL SOCKS FACTORY</td>\n",
       "      <td>Sabanozu Organize Sanayi Bolgesi</td>\n",
       "      <td>CANKIRI</td>\n",
       "      <td>Cankiri</td>\n",
       "      <td>18650</td>\n",
       "      <td>TR</td>\n",
       "      <td>LEED-NC v2009</td>\n",
       "      <td>60</td>\n",
       "      <td>Gold</td>\n",
       "      <td>8/28/13 0:00</td>\n",
       "      <td>Yes</td>\n",
       "      <td>Corporate: Privately Held</td>\n",
       "      <td>71683.6</td>\n",
       "      <td>71688</td>\n",
       "      <td>Industrial Manufacturing</td>\n",
       "      <td>GELAL CORAP</td>\n",
       "      <td>5/18/10 0:00</td>\n",
       "    </tr>\n",
       "    <tr>\n",
       "      <th>60401</th>\n",
       "      <td>1000008803</td>\n",
       "      <td>No</td>\n",
       "      <td>BAYLO SUITES</td>\n",
       "      <td>Galata Kulesi Sokak No. 24 Beyoglu</td>\n",
       "      <td>Istanbul</td>\n",
       "      <td>Istanbul</td>\n",
       "      <td>34420</td>\n",
       "      <td>TR</td>\n",
       "      <td>LEED-NC v2009</td>\n",
       "      <td>55</td>\n",
       "      <td>Silver</td>\n",
       "      <td>6/7/11 0:00</td>\n",
       "      <td>Yes</td>\n",
       "      <td>Corporate: Privately Held</td>\n",
       "      <td>3550.8</td>\n",
       "      <td>592</td>\n",
       "      <td>Multi-Family Residential: Apartment</td>\n",
       "      <td>Zemin Yatirim</td>\n",
       "      <td>8/19/10 0:00</td>\n",
       "    </tr>\n",
       "  </tbody>\n",
       "</table>\n",
       "</div>"
      ],
      "text/plain": [
       "               ID Isconfidential                             ProjectName  \\\n",
       "55568  1000002936             No  SCHNEIDER ELECTRIC TRANSFORMER FACTORY   \n",
       "55980  1000003448             No                          Li Fung Centre   \n",
       "56020  1000003493             No               ESER HOLDING HEADQUARTERS   \n",
       "58487  1000006498             No                     GELAL SOCKS FACTORY   \n",
       "60401  1000008803             No                            BAYLO SUITES   \n",
       "\n",
       "                                                Street      City     State  \\\n",
       "55568                            TOSB Cayirova Kocaeli   Kocaeli   Kocaeli   \n",
       "55980                                        Yenibosna  Istanbul  Istanbul   \n",
       "56020  Turan Gunes Bulv. Cezayir Cad. 718. Sokak No:14    Ankara    Ankara   \n",
       "58487                 Sabanozu Organize Sanayi Bolgesi   CANKIRI   Cankiri   \n",
       "60401               Galata Kulesi Sokak No. 24 Beyoglu  Istanbul  Istanbul   \n",
       "\n",
       "      Zipcode Country LEEDSystemVersionDisplayName  PointsAchieved CertLevel  \\\n",
       "55568   41480      TR                LEED-NC v2009              61      Gold   \n",
       "55980   34550      TR                LEED-NC v2009              54    Silver   \n",
       "56020    6550      TR                LEED-NC v2009              92  Platinum   \n",
       "58487   18650      TR                LEED-NC v2009              60      Gold   \n",
       "60401   34420      TR                LEED-NC v2009              55    Silver   \n",
       "\n",
       "           CertDate IsCertified                 OwnerTypes  GrossSqFoot  \\\n",
       "55568  9/12/11 0:00         Yes  Corporate: Privately Held     368011.0   \n",
       "55980  7/17/11 0:00         Yes  Corporate: Privately Held      86013.0   \n",
       "56020  2/14/11 0:00         Yes  Corporate: Privately Held      75039.0   \n",
       "58487  8/28/13 0:00         Yes  Corporate: Privately Held      71683.6   \n",
       "60401   6/7/11 0:00         Yes  Corporate: Privately Held       3550.8   \n",
       "\n",
       "       TotalPropArea                         ProjectTypes  \\\n",
       "55568         749276             Industrial Manufacturing   \n",
       "55980         184290  Office: Administrative/Professional   \n",
       "56020          25241  Office: Administrative/Professional   \n",
       "58487          71688             Industrial Manufacturing   \n",
       "60401            592  Multi-Family Residential: Apartment   \n",
       "\n",
       "                    OwnerOrganization RegistrationDate  \n",
       "55568  SCHNEIDER ENERGY INDUSTRY A.S.     12/9/09 0:00  \n",
       "55980                         Li Fung    12/25/09 0:00  \n",
       "56020                    Eser Holding    12/29/09 0:00  \n",
       "58487                     GELAL CORAP     5/18/10 0:00  \n",
       "60401                   Zemin Yatirim     8/19/10 0:00  "
      ]
     },
     "execution_count": 8,
     "metadata": {},
     "output_type": "execute_result"
    }
   ],
   "source": [
    "turkey_private.head()"
   ]
  },
  {
   "cell_type": "code",
   "execution_count": 16,
   "metadata": {
    "collapsed": false
   },
   "outputs": [
    {
     "name": "stdout",
     "output_type": "stream",
     "text": [
      "Turkey\n",
      "Mean: 62.666666666666664, n: 30, SD: 10.72794896002442, SE: 1.9921301100778852\n"
     ]
    }
   ],
   "source": [
    "#Standard error mean\n",
    "m = turkey_private['PointsAchieved'].mean()\n",
    "n = len(turkey_private['PointsAchieved'])\n",
    "sd = np.std(turkey_private['PointsAchieved'])\n",
    "se = stats.sem(turkey_private['PointsAchieved'])\n",
    "print(\"Turkey\\nMean: {}, n: {}, SD: {}, SE: {}\".format(m, n, sd, se))"
   ]
  },
  {
   "cell_type": "code",
   "execution_count": 17,
   "metadata": {
    "collapsed": false
   },
   "outputs": [
    {
     "name": "stdout",
     "output_type": "stream",
     "text": [
      "China\n",
      "Mean: 62.06976744186046, n: 43, SD: 9.536698636118745, SE: 1.4715445471320365\n"
     ]
    }
   ],
   "source": [
    "m = china_private['PointsAchieved'].mean()\n",
    "n = len(china_private['PointsAchieved'])\n",
    "sd = np.std(china_private['PointsAchieved'])\n",
    "se = stats.sem(china_private['PointsAchieved'])\n",
    "print(\"China\\nMean: {}, n: {}, SD: {}, SE: {}\".format(m, n, sd, se))"
   ]
  },
  {
   "cell_type": "code",
   "execution_count": 19,
   "metadata": {
    "collapsed": false
   },
   "outputs": [
    {
     "name": "stdout",
     "output_type": "stream",
     "text": [
      "Brazil\n",
      "Mean: 55.52, n: 25, SD: 6.067091560212373, SE: 1.9921301100778852\n"
     ]
    }
   ],
   "source": [
    "m = brazil_private['PointsAchieved'].mean()\n",
    "n = len(brazil_private['PointsAchieved'])\n",
    "sd = np.std(brazil_private['PointsAchieved'])\n",
    "se = stats.sem(turkey_private['PointsAchieved'])\n",
    "print(\"Brazil\\nMean: {}, n: {}, SD: {}, SE: {}\".format(m, n, sd, se))"
   ]
  },
  {
   "cell_type": "code",
   "execution_count": 21,
   "metadata": {
    "collapsed": false
   },
   "outputs": [
    {
     "name": "stdout",
     "output_type": "stream",
     "text": [
      "USA\n",
      "Mean: 53.19763513513514, n: 592, SD: 10.569579363481196, SE: 0.43477439920952055\n"
     ]
    }
   ],
   "source": [
    "m = usa_private['PointsAchieved'].mean()\n",
    "n = len(usa_private['PointsAchieved'])\n",
    "sd = np.std(usa_private['PointsAchieved'])\n",
    "se = stats.sem(usa_private['PointsAchieved'])\n",
    "print(\"USA\\nMean: {}, n: {}, SD: {}, SE: {}\".format(m, n, sd, se))"
   ]
  },
  {
   "cell_type": "code",
   "execution_count": null,
   "metadata": {
    "collapsed": true
   },
   "outputs": [],
   "source": []
  }
 ],
 "metadata": {
  "kernelspec": {
   "display_name": "Python 3",
   "language": "python",
   "name": "python3"
  },
  "language_info": {
   "codemirror_mode": {
    "name": "ipython",
    "version": 3
   },
   "file_extension": ".py",
   "mimetype": "text/x-python",
   "name": "python",
   "nbconvert_exporter": "python",
   "pygments_lexer": "ipython3",
   "version": "3.4.3"
  }
 },
 "nbformat": 4,
 "nbformat_minor": 0
}
