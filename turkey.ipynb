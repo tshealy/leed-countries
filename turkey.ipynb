{
 "cells": [
  {
   "cell_type": "code",
   "execution_count": 1,
   "metadata": {
    "collapsed": true
   },
   "outputs": [],
   "source": [
    "import pandas as pd\n",
    "import itertools\n",
    "import numpy as np\n",
    "from scipy import stats\n",
    "from scipy.stats import ttest_ind\n",
    "import matplotlib.pyplot as plt\n",
    "%matplotlib inline"
   ]
  },
  {
   "cell_type": "code",
   "execution_count": 2,
   "metadata": {
    "collapsed": false
   },
   "outputs": [
    {
     "name": "stderr",
     "output_type": "stream",
     "text": [
      "/Users/trippshealy/Gdrive/research/leed_countries/.direnv/python-3.4.3/lib/python3.4/site-packages/pandas/io/parsers.py:1170: DtypeWarning: Columns (9) have mixed types. Specify dtype option on import or set low_memory=False.\n",
      "  data = self._reader.read(nrows)\n"
     ]
    }
   ],
   "source": [
    "buildings_all = pd.read_csv(\"original_data/PublicLEEDProjectDirectory.csv\", skiprows=3, encoding=\"ISO-8859-1\")\n",
    "buildings_all = buildings_all[buildings_all['Isconfidential'] == 'No']\n",
    "buildings_2009 = buildings_all[buildings_all[\"LEEDSystemVersionDisplayName\"] == \"LEED-NC v2009\"] "
   ]
  },
  {
   "cell_type": "code",
   "execution_count": 3,
   "metadata": {
    "collapsed": true
   },
   "outputs": [],
   "source": [
    "def my_filter_2009(df):\n",
    "    countries = df.dropna(subset = ['PointsAchieved'])\n",
    "    countries['PointsAchieved'] = countries['PointsAchieved'].convert_objects(convert_numeric=True)\n",
    "    countries = countries[countries['PointsAchieved'] > 39]\n",
    "    return(countries)"
   ]
  },
  {
   "cell_type": "code",
   "execution_count": 4,
   "metadata": {
    "collapsed": false
   },
   "outputs": [
    {
     "name": "stderr",
     "output_type": "stream",
     "text": [
      "/Users/trippshealy/Gdrive/research/leed_countries/.direnv/python-3.4.3/lib/python3.4/site-packages/ipykernel/__main__.py:3: SettingWithCopyWarning: \n",
      "A value is trying to be set on a copy of a slice from a DataFrame.\n",
      "Try using .loc[row_indexer,col_indexer] = value instead\n",
      "\n",
      "See the the caveats in the documentation: http://pandas.pydata.org/pandas-docs/stable/indexing.html#indexing-view-versus-copy\n",
      "  app.launch_new_instance()\n"
     ]
    }
   ],
   "source": [
    "filtered = my_filter_2009(buildings_2009)"
   ]
  },
  {
   "cell_type": "code",
   "execution_count": 5,
   "metadata": {
    "collapsed": true
   },
   "outputs": [],
   "source": [
    "turkey = filtered[filtered['Country'] == 'TR']"
   ]
  },
  {
   "cell_type": "code",
   "execution_count": 6,
   "metadata": {
    "collapsed": false
   },
   "outputs": [
    {
     "data": {
      "text/plain": [
       "(59, 19)"
      ]
     },
     "execution_count": 6,
     "metadata": {},
     "output_type": "execute_result"
    }
   ],
   "source": [
    "turkey.shape"
   ]
  },
  {
   "cell_type": "code",
   "execution_count": 7,
   "metadata": {
    "collapsed": false
   },
   "outputs": [
    {
     "data": {
      "text/html": [
       "<div>\n",
       "<table border=\"1\" class=\"dataframe\">\n",
       "  <thead>\n",
       "    <tr style=\"text-align: right;\">\n",
       "      <th></th>\n",
       "      <th>ID</th>\n",
       "      <th>Isconfidential</th>\n",
       "      <th>ProjectName</th>\n",
       "      <th>Street</th>\n",
       "      <th>City</th>\n",
       "      <th>State</th>\n",
       "      <th>Zipcode</th>\n",
       "      <th>Country</th>\n",
       "      <th>LEEDSystemVersionDisplayName</th>\n",
       "      <th>PointsAchieved</th>\n",
       "      <th>CertLevel</th>\n",
       "      <th>CertDate</th>\n",
       "      <th>IsCertified</th>\n",
       "      <th>OwnerTypes</th>\n",
       "      <th>GrossSqFoot</th>\n",
       "      <th>TotalPropArea</th>\n",
       "      <th>ProjectTypes</th>\n",
       "      <th>OwnerOrganization</th>\n",
       "      <th>RegistrationDate</th>\n",
       "    </tr>\n",
       "  </thead>\n",
       "  <tbody>\n",
       "    <tr>\n",
       "      <th>55451</th>\n",
       "      <td>1000002781</td>\n",
       "      <td>No</td>\n",
       "      <td>HILTON GARDEN INN ISTANBUL GOLDEN HORN</td>\n",
       "      <td>Dutluk Sokak</td>\n",
       "      <td>Istanbul</td>\n",
       "      <td>Istanbul</td>\n",
       "      <td>34445</td>\n",
       "      <td>TR</td>\n",
       "      <td>LEED-NC v2009</td>\n",
       "      <td>65</td>\n",
       "      <td>Gold</td>\n",
       "      <td>5/30/12 0:00</td>\n",
       "      <td>Yes</td>\n",
       "      <td>Investor: REIT, Publicly traded</td>\n",
       "      <td>193750.0</td>\n",
       "      <td>38580</td>\n",
       "      <td>Lodging: Hotel/Motel/Resort, Full Service</td>\n",
       "      <td>Amplio Istanbul Hotel Yatirim</td>\n",
       "      <td>12/2/09 0:00</td>\n",
       "    </tr>\n",
       "    <tr>\n",
       "      <th>55524</th>\n",
       "      <td>1000002878</td>\n",
       "      <td>No</td>\n",
       "      <td>SABANCI UNIVERSITY NANOTECHNOLOGY CENTER</td>\n",
       "      <td>Sabanci University Campus</td>\n",
       "      <td>Istanbul</td>\n",
       "      <td>Istanbul</td>\n",
       "      <td>34956</td>\n",
       "      <td>TR</td>\n",
       "      <td>LEED-NC v2009</td>\n",
       "      <td>79</td>\n",
       "      <td>Gold</td>\n",
       "      <td>10/28/11 0:00</td>\n",
       "      <td>Yes</td>\n",
       "      <td>Educational: College, Private</td>\n",
       "      <td>76826.4</td>\n",
       "      <td>106868</td>\n",
       "      <td>Laboratory</td>\n",
       "      <td>Sabanci University</td>\n",
       "      <td>12/7/09 0:00</td>\n",
       "    </tr>\n",
       "    <tr>\n",
       "      <th>55568</th>\n",
       "      <td>1000002936</td>\n",
       "      <td>No</td>\n",
       "      <td>SCHNEIDER ELECTRIC TRANSFORMER FACTORY</td>\n",
       "      <td>TOSB Cayirova Kocaeli</td>\n",
       "      <td>Kocaeli</td>\n",
       "      <td>Kocaeli</td>\n",
       "      <td>41480</td>\n",
       "      <td>TR</td>\n",
       "      <td>LEED-NC v2009</td>\n",
       "      <td>61</td>\n",
       "      <td>Gold</td>\n",
       "      <td>9/12/11 0:00</td>\n",
       "      <td>Yes</td>\n",
       "      <td>Corporate: Privately Held</td>\n",
       "      <td>368011.0</td>\n",
       "      <td>749276</td>\n",
       "      <td>Industrial Manufacturing</td>\n",
       "      <td>SCHNEIDER ENERGY INDUSTRY A.S.</td>\n",
       "      <td>12/9/09 0:00</td>\n",
       "    </tr>\n",
       "    <tr>\n",
       "      <th>55722</th>\n",
       "      <td>1000003136</td>\n",
       "      <td>No</td>\n",
       "      <td>THY TEKNIK HABOM</td>\n",
       "      <td>Sabiha Gokcen Havalimani</td>\n",
       "      <td>Pendik</td>\n",
       "      <td>Istanbul</td>\n",
       "      <td>34912</td>\n",
       "      <td>TR</td>\n",
       "      <td>LEED-NC v2009</td>\n",
       "      <td>70</td>\n",
       "      <td>Gold</td>\n",
       "      <td>1/15/15 0:00</td>\n",
       "      <td>Yes</td>\n",
       "      <td>NaN</td>\n",
       "      <td>4306403.5</td>\n",
       "      <td>2315500</td>\n",
       "      <td>Industrial Manufacturing</td>\n",
       "      <td>THY Teknik</td>\n",
       "      <td>12/16/09 0:00</td>\n",
       "    </tr>\n",
       "    <tr>\n",
       "      <th>55980</th>\n",
       "      <td>1000003448</td>\n",
       "      <td>No</td>\n",
       "      <td>Li Fung Centre</td>\n",
       "      <td>Yenibosna</td>\n",
       "      <td>Istanbul</td>\n",
       "      <td>Istanbul</td>\n",
       "      <td>34550</td>\n",
       "      <td>TR</td>\n",
       "      <td>LEED-NC v2009</td>\n",
       "      <td>54</td>\n",
       "      <td>Silver</td>\n",
       "      <td>7/17/11 0:00</td>\n",
       "      <td>Yes</td>\n",
       "      <td>Corporate: Privately Held</td>\n",
       "      <td>86013.0</td>\n",
       "      <td>184290</td>\n",
       "      <td>Office: Administrative/Professional</td>\n",
       "      <td>Li Fung</td>\n",
       "      <td>12/25/09 0:00</td>\n",
       "    </tr>\n",
       "  </tbody>\n",
       "</table>\n",
       "</div>"
      ],
      "text/plain": [
       "               ID Isconfidential                               ProjectName  \\\n",
       "55451  1000002781             No    HILTON GARDEN INN ISTANBUL GOLDEN HORN   \n",
       "55524  1000002878             No  SABANCI UNIVERSITY NANOTECHNOLOGY CENTER   \n",
       "55568  1000002936             No    SCHNEIDER ELECTRIC TRANSFORMER FACTORY   \n",
       "55722  1000003136             No                          THY TEKNIK HABOM   \n",
       "55980  1000003448             No                            Li Fung Centre   \n",
       "\n",
       "                          Street      City     State Zipcode Country  \\\n",
       "55451               Dutluk Sokak  Istanbul  Istanbul   34445      TR   \n",
       "55524  Sabanci University Campus  Istanbul  Istanbul   34956      TR   \n",
       "55568      TOSB Cayirova Kocaeli   Kocaeli   Kocaeli   41480      TR   \n",
       "55722   Sabiha Gokcen Havalimani    Pendik  Istanbul   34912      TR   \n",
       "55980                  Yenibosna  Istanbul  Istanbul   34550      TR   \n",
       "\n",
       "      LEEDSystemVersionDisplayName  PointsAchieved CertLevel       CertDate  \\\n",
       "55451                LEED-NC v2009              65      Gold   5/30/12 0:00   \n",
       "55524                LEED-NC v2009              79      Gold  10/28/11 0:00   \n",
       "55568                LEED-NC v2009              61      Gold   9/12/11 0:00   \n",
       "55722                LEED-NC v2009              70      Gold   1/15/15 0:00   \n",
       "55980                LEED-NC v2009              54    Silver   7/17/11 0:00   \n",
       "\n",
       "      IsCertified                       OwnerTypes  GrossSqFoot  \\\n",
       "55451         Yes  Investor: REIT, Publicly traded     193750.0   \n",
       "55524         Yes    Educational: College, Private      76826.4   \n",
       "55568         Yes        Corporate: Privately Held     368011.0   \n",
       "55722         Yes                              NaN    4306403.5   \n",
       "55980         Yes        Corporate: Privately Held      86013.0   \n",
       "\n",
       "       TotalPropArea                               ProjectTypes  \\\n",
       "55451          38580  Lodging: Hotel/Motel/Resort, Full Service   \n",
       "55524         106868                                 Laboratory   \n",
       "55568         749276                   Industrial Manufacturing   \n",
       "55722        2315500                   Industrial Manufacturing   \n",
       "55980         184290        Office: Administrative/Professional   \n",
       "\n",
       "                    OwnerOrganization RegistrationDate  \n",
       "55451   Amplio Istanbul Hotel Yatirim     12/2/09 0:00  \n",
       "55524              Sabanci University     12/7/09 0:00  \n",
       "55568  SCHNEIDER ENERGY INDUSTRY A.S.     12/9/09 0:00  \n",
       "55722                      THY Teknik    12/16/09 0:00  \n",
       "55980                         Li Fung    12/25/09 0:00  "
      ]
     },
     "execution_count": 7,
     "metadata": {},
     "output_type": "execute_result"
    }
   ],
   "source": [
    "turkey.head()"
   ]
  },
  {
   "cell_type": "code",
   "execution_count": 11,
   "metadata": {
    "collapsed": false
   },
   "outputs": [
    {
     "data": {
      "text/plain": [
       "ProjectTypes\n",
       "Core Learning Space: College/University              6\n",
       "Core Learning Space: Other classroom education       1\n",
       "Industrial Manufacturing                             9\n",
       "Laboratory                                           2\n",
       "Lodging: Dormitory                                   1\n",
       "Lodging: Hotel/Motel/Resort, Full Service            5\n",
       "Lodging: Hotel/Motel/Resort, Select Service          2\n",
       "Lodging: Inn                                         1\n",
       "Multi-Family Residential: Apartment                  3\n",
       "Multi-Family Residential: Condominium                5\n",
       "Office: Administrative/Professional                 10\n",
       "Office: Government                                   1\n",
       "Office: Mixed-Use                                    2\n",
       "Office: Other Office                                 2\n",
       "Public Assembly: Other Assembly                      3\n",
       "Public Assembly: Recreation                          1\n",
       "Public Assembly: Social/Meeting                      1\n",
       "Service: Other Service                               2\n",
       "Warehouse and Distribution Center: Warehouse         1\n",
       "Warehouse: Nonrefrigerated Distribution/Shipping     1\n",
       "Name: ID, dtype: int64"
      ]
     },
     "execution_count": 11,
     "metadata": {},
     "output_type": "execute_result"
    }
   ],
   "source": [
    "turkey.groupby('ProjectTypes').count()['ID']"
   ]
  },
  {
   "cell_type": "code",
   "execution_count": 12,
   "metadata": {
    "collapsed": false
   },
   "outputs": [
    {
     "data": {
      "text/plain": [
       "OwnerTypes\n",
       "Community Development Corporation or Non     1\n",
       "Corporate: Privately Held                   30\n",
       "Corporate: Publicly Traded                   3\n",
       "Educational: College, Private                2\n",
       "Educational: College, Public                 1\n",
       "Educational: University, Private             3\n",
       "Government Use: Federal                      2\n",
       "Government Use: Local, City                  1\n",
       "Government Use: Local, County                2\n",
       "Government Use: State                        2\n",
       "Investor: Individual/Family                  1\n",
       "Investor: REIT, Publicly traded              4\n",
       "Non-Profit (that do not fit into other c     1\n",
       "Name: ID, dtype: int64"
      ]
     },
     "execution_count": 12,
     "metadata": {},
     "output_type": "execute_result"
    }
   ],
   "source": [
    "turkey.groupby('OwnerTypes').count()['ID']"
   ]
  },
  {
   "cell_type": "code",
   "execution_count": 17,
   "metadata": {
    "collapsed": false
   },
   "outputs": [
    {
     "data": {
      "text/plain": [
       "55451     193750.00\n",
       "55524      76826.40\n",
       "55568     368011.00\n",
       "55722    4306403.50\n",
       "55980      86013.00\n",
       "56020      75039.00\n",
       "56666     327896.84\n",
       "58487      71683.60\n",
       "59412      17243.00\n",
       "60089     406313.80\n",
       "60401       3550.80\n",
       "60677      51408.76\n",
       "61203     223986.00\n",
       "61272     113041.97\n",
       "62045     363982.00\n",
       "63332     129196.50\n",
       "63426      52189.58\n",
       "63739      65528.74\n",
       "66772     248382.60\n",
       "67513      20897.85\n",
       "67580      29502.00\n",
       "70096     235882.26\n",
       "71409     767800.46\n",
       "71610     238237.00\n",
       "71676     181674.00\n",
       "73008     208600.00\n",
       "73158     177300.00\n",
       "73159     714209.85\n",
       "73160     372302.56\n",
       "74071      35596.00\n",
       "74336     528777.00\n",
       "74546     505144.00\n",
       "74547      90061.10\n",
       "75102     373270.00\n",
       "76121     344736.39\n",
       "76125     204582.64\n",
       "76424     447943.04\n",
       "76492    2071837.00\n",
       "76654       3735.00\n",
       "77194      40316.00\n",
       "77431      29435.77\n",
       "77803      88060.00\n",
       "77817       6373.10\n",
       "78615     188239.10\n",
       "78751    1075831.00\n",
       "79131     310312.50\n",
       "79378      48486.00\n",
       "79670      30795.00\n",
       "80022      35587.00\n",
       "81863      54500.00\n",
       "82069     128316.50\n",
       "82201     269963.30\n",
       "82428     247590.00\n",
       "85417      10538.00\n",
       "86363       5651.00\n",
       "87090      74236.70\n",
       "87443      35410.69\n",
       "91644     148800.00\n",
       "94271     171342.63\n",
       "Name: GrossSqFoot, dtype: float64"
      ]
     },
     "execution_count": 17,
     "metadata": {},
     "output_type": "execute_result"
    }
   ],
   "source": [
    "turkey.GrossSqFoot.dropna()"
   ]
  },
  {
   "cell_type": "code",
   "execution_count": 19,
   "metadata": {
    "collapsed": false
   },
   "outputs": [],
   "source": [
    "turkey_property = turkey.loc[:, ['GrossSqFoot', 'TotalPropArea']].dropna()"
   ]
  },
  {
   "cell_type": "code",
   "execution_count": 22,
   "metadata": {
    "collapsed": false
   },
   "outputs": [
    {
     "data": {
      "text/plain": [
       "<matplotlib.axes._subplots.AxesSubplot at 0x1095f18d0>"
      ]
     },
     "execution_count": 22,
     "metadata": {},
     "output_type": "execute_result"
    },
    {
     "data": {
      "image/png": "[encoded data removed]",
      "text/plain": [
       "<matplotlib.figure.Figure at 0x10c0f9a90>"
      ]
     },
     "metadata": {},
     "output_type": "display_data"
    }
   ],
   "source": [
    "turkey_property.plot(kind='scatter', x='GrossSqFoot', y='TotalPropArea')"
   ]
  },
  {
   "cell_type": "markdown",
   "metadata": {},
   "source": [
    "## Normal Distribution of scores for private companies "
   ]
  },
  {
   "cell_type": "code",
   "execution_count": 24,
   "metadata": {
    "collapsed": true
   },
   "outputs": [],
   "source": [
    "def filter_owner(df):\n",
    "    return(df[df[\"OwnerTypes\"] == 'Corporate: Privately Held'])"
   ]
  },
  {
   "cell_type": "code",
   "execution_count": 25,
   "metadata": {
    "collapsed": true
   },
   "outputs": [],
   "source": [
    "turkey_private = filter_owner(turkey)"
   ]
  },
  {
   "cell_type": "code",
   "execution_count": 29,
   "metadata": {
    "collapsed": true
   },
   "outputs": [],
   "source": [
    "import scipy.stats as stats"
   ]
  },
  {
   "cell_type": "code",
   "execution_count": 31,
   "metadata": {
    "collapsed": false
   },
   "outputs": [
    {
     "data": {
      "text/plain": [
       "NormaltestResult(statistic=4.0493412580840111, pvalue=0.13203732528688755)"
      ]
     },
     "execution_count": 31,
     "metadata": {},
     "output_type": "execute_result"
    }
   ],
   "source": [
    "stats.normaltest(turkey_private.PointsAchieved)"
   ]
  },
  {
   "cell_type": "code",
   "execution_count": null,
   "metadata": {
    "collapsed": true
   },
   "outputs": [],
   "source": []
  }
 ],
 "metadata": {
  "kernelspec": {
   "display_name": "Python 3",
   "language": "python",
   "name": "python3"
  },
  "language_info": {
   "codemirror_mode": {
    "name": "ipython",
    "version": 3
   },
   "file_extension": ".py",
   "mimetype": "text/x-python",
   "name": "python",
   "nbconvert_exporter": "python",
   "pygments_lexer": "ipython3",
   "version": "3.4.3"
  }
 },
 "nbformat": 4,
 "nbformat_minor": 0
}
