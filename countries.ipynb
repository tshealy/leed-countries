{
 "cells": [
  {
   "cell_type": "code",
   "execution_count": 1,
   "metadata": {
    "collapsed": true
   },
   "outputs": [],
   "source": [
    "import pandas as pd\n",
    "import itertools\n",
    "import numpy as np\n",
    "from scipy import stats\n",
    "from scipy.stats import ttest_ind\n",
    "import matplotlib.pyplot as plt\n",
    "%matplotlib inline"
   ]
  },
  {
   "cell_type": "code",
   "execution_count": 2,
   "metadata": {
    "collapsed": false
   },
   "outputs": [
    {
     "name": "stderr",
     "output_type": "stream",
     "text": [
      "/Users/trippshealy/Gdrive/research/leed_countries/.direnv/python-3.4.3/lib/python3.4/site-packages/pandas/io/parsers.py:1170: DtypeWarning: Columns (9) have mixed types. Specify dtype option on import or set low_memory=False.\n",
      "  data = self._reader.read(nrows)\n"
     ]
    }
   ],
   "source": [
    "buildings_all = pd.read_csv(\"original_data/PublicLEEDProjectDirectory.csv\", skiprows=3, encoding=\"ISO-8859-1\")\n",
    "buildings_all = buildings_all[buildings_all['Isconfidential'] == 'No']\n",
    "buildings_2009 = buildings_all[buildings_all[\"LEEDSystemVersionDisplayName\"] == \"LEED-NC v2009\"] "
   ]
  },
  {
   "cell_type": "code",
   "execution_count": 3,
   "metadata": {
    "collapsed": true
   },
   "outputs": [],
   "source": [
    "def my_filter_2009(df):\n",
    "    countries = df.dropna(subset = ['PointsAchieved'])\n",
    "    countries['PointsAchieved'] = countries['PointsAchieved'].convert_objects(convert_numeric=True)\n",
    "    countries = countries[countries['PointsAchieved'] > 39]\n",
    "    return(countries)"
   ]
  },
  {
   "cell_type": "code",
   "execution_count": 4,
   "metadata": {
    "collapsed": false
   },
   "outputs": [
    {
     "name": "stderr",
     "output_type": "stream",
     "text": [
      "/Users/trippshealy/Gdrive/research/leed_countries/.direnv/python-3.4.3/lib/python3.4/site-packages/ipykernel/__main__.py:3: SettingWithCopyWarning: \n",
      "A value is trying to be set on a copy of a slice from a DataFrame.\n",
      "Try using .loc[row_indexer,col_indexer] = value instead\n",
      "\n",
      "See the the caveats in the documentation: http://pandas.pydata.org/pandas-docs/stable/indexing.html#indexing-view-versus-copy\n",
      "  app.launch_new_instance()\n"
     ]
    }
   ],
   "source": [
    "filtered = my_filter_2009(buildings_2009)"
   ]
  },
  {
   "cell_type": "code",
   "execution_count": 5,
   "metadata": {
    "collapsed": true
   },
   "outputs": [],
   "source": [
    "turkey = filtered[filtered['Country'] == 'TR']\n",
    "usa = filtered[filtered['Country'] == 'US']\n",
    "china = filtered[filtered['Country'] == 'CN']\n",
    "brazil = filtered[filtered['Country'] == 'BR']"
   ]
  },
  {
   "cell_type": "code",
   "execution_count": 7,
   "metadata": {
    "collapsed": false
   },
   "outputs": [
    {
     "data": {
      "text/plain": [
       "ProjectTypes\n",
       "Core Learning Space: College/University              6\n",
       "Core Learning Space: Other classroom education       1\n",
       "Industrial Manufacturing                             9\n",
       "Laboratory                                           2\n",
       "Lodging: Dormitory                                   1\n",
       "Lodging: Hotel/Motel/Resort, Full Service            5\n",
       "Lodging: Hotel/Motel/Resort, Select Service          2\n",
       "Lodging: Inn                                         1\n",
       "Multi-Family Residential: Apartment                  3\n",
       "Multi-Family Residential: Condominium                5\n",
       "Office: Administrative/Professional                 10\n",
       "Office: Government                                   1\n",
       "Office: Mixed-Use                                    2\n",
       "Office: Other Office                                 2\n",
       "Public Assembly: Other Assembly                      3\n",
       "Public Assembly: Recreation                          1\n",
       "Public Assembly: Social/Meeting                      1\n",
       "Service: Other Service                               2\n",
       "Warehouse and Distribution Center: Warehouse         1\n",
       "Warehouse: Nonrefrigerated Distribution/Shipping     1\n",
       "Name: ID, dtype: int64"
      ]
     },
     "execution_count": 7,
     "metadata": {},
     "output_type": "execute_result"
    }
   ],
   "source": [
    "turkey.groupby('ProjectTypes').count()['ID']"
   ]
  },
  {
   "cell_type": "code",
   "execution_count": 9,
   "metadata": {
    "collapsed": false
   },
   "outputs": [
    {
     "data": {
      "text/plain": [
       "ProjectTypes\n",
       "Core Learning Space: College/University                          1\n",
       "Core Learning Space: Other classroom education                   1\n",
       "Datacenter                                                       1\n",
       "Health Care: Clinic/Other Outpatient                             1\n",
       "Healthcare: Nursing Home/ Assisted Living                        1\n",
       "Industrial Manufacturing                                        43\n",
       "Laboratory                                                       6\n",
       "Lodging: Hotel/Motel/Resort, Full Service                        5\n",
       "Lodging: Hotel/Motel/Resort, Select Service                      1\n",
       "Multi-Family Residential: Apartment                              2\n",
       "Multi-Family Residential: Condominium                            1\n",
       "Office: Administrative/Professional                             23\n",
       "Office: Financial                                                1\n",
       "Office: Government                                               2\n",
       "Office: Mixed-Use                                               28\n",
       "Office: Other Office                                             6\n",
       "Public Assembly: Entertainment                                   1\n",
       "Public Assembly: Library                                         1\n",
       "Public Assembly: Other Assembly                                  2\n",
       "Public Assembly: Recreation                                      3\n",
       "Public Assembly: Social/Meeting                                  1\n",
       "Retail: Vehicle Dealership                                       1\n",
       "Warehouse and Distribution Center: Nonrefrigerated, Distribu     2\n",
       "Warehouse and Distribution Center: Refrigerated                  2\n",
       "Warehouse and Distribution Center: Warehouse                     3\n",
       "Warehouse: Refrigerated                                          1\n",
       "Name: ID, dtype: int64"
      ]
     },
     "execution_count": 9,
     "metadata": {},
     "output_type": "execute_result"
    }
   ],
   "source": [
    "china.groupby('ProjectTypes').count()['ID']"
   ]
  },
  {
   "cell_type": "code",
   "execution_count": 10,
   "metadata": {
    "collapsed": false
   },
   "outputs": [
    {
     "data": {
      "text/plain": [
       "ProjectTypes\n",
       "Data Center                                      3\n",
       "Datacenter                                       1\n",
       "Health Care: Outpatient, Office (Diagnostic)     1\n",
       "Healthcare: Inpatient                            1\n",
       "Industrial Manufacturing                         4\n",
       "Office: Administrative/Professional             12\n",
       "Office: Financial                                1\n",
       "Office: Government                               2\n",
       "Office: Mixed-Use                                1\n",
       "Office: Other Office                             6\n",
       "Public Assembly: Entertainment                   3\n",
       "Public Assembly: Library                         1\n",
       "Public Assembly: Social/Meeting                  1\n",
       "Public Assembly: Stadium/Arena                   8\n",
       "Retail: Bank Branch                              1\n",
       "Retail: Other Retail                             1\n",
       "Service: Other Service                           2\n",
       "Service: Vehicle Service/Repair                  1\n",
       "Warehouse: Self Storage Units                    1\n",
       "Name: ID, dtype: int64"
      ]
     },
     "execution_count": 10,
     "metadata": {},
     "output_type": "execute_result"
    }
   ],
   "source": [
    "brazil.groupby('ProjectTypes').count()['ID']"
   ]
  },
  {
   "cell_type": "code",
   "execution_count": 8,
   "metadata": {
    "collapsed": false
   },
   "outputs": [
    {
     "data": {
      "text/plain": [
       "ProjectTypes\n",
       "Animal Care                                                       1\n",
       "Assembly                                                          2\n",
       "Campus (corp/school)                                              2\n",
       "Commercial Office                                                30\n",
       "Community Dev.                                                    3\n",
       "Core Learning Space: College/University                         378\n",
       "Core Learning Space: K-12 Elementary/Middle School                1\n",
       "Core Learning Space: K-12, Elementary/Middle School               1\n",
       "Core Learning Space: K-12, High School                            3\n",
       "Core Learning Space: Other classroom education                   28\n",
       "Core Learning Space: Preschool/Daycare                           39\n",
       "Data Center                                                       5\n",
       "Datacenter                                                       22\n",
       "Daycare                                                           1\n",
       "Financial & Comm.                                                 3\n",
       "Health Care                                                       7\n",
       "Health Care: Clinic/Other Outpatient                             86\n",
       "Health Care: Inpatient                                           17\n",
       "Health Care: Nursing Home/ Assisted Living                       10\n",
       "Health Care: Outpatient, Office (Diagnostic)                     22\n",
       "Healthcare: Clinic/Other Outpatient                              11\n",
       "Healthcare: Inpatient                                             5\n",
       "Healthcare: Nursing Home/ Assisted Living                         2\n",
       "Healthcare: Outpatient Office (Diagnostic)                        2\n",
       "Higher Education                                                 17\n",
       "Hotel/Resort                                                      1\n",
       "Industrial                                                        1\n",
       "Industrial Manufacturing                                         78\n",
       "Interpretive Center                                               3\n",
       "Laboratory                                                       64\n",
       "                                                               ... \n",
       "Public Assembly: Recreation                                     115\n",
       "Public Assembly: Social/Meeting                                  43\n",
       "Public Assembly: Stadium/Arena                                   21\n",
       "Public Order and Safety: Fire/Police Station                     90\n",
       "Public Order and Safety: Other Public Order                      58\n",
       "Public Order/Safety                                               3\n",
       "Recreation                                                        5\n",
       "Religious Worship                                                13\n",
       "Retail                                                            7\n",
       "Retail: Bank Branch                                             100\n",
       "Retail: Convenience Store                                        28\n",
       "Retail: Fast Food                                                 5\n",
       "Retail: Grocery Store/Food Market                                13\n",
       "Retail: Open Shopping Center                                      2\n",
       "Retail: Other Retail                                             25\n",
       "Retail: Restaurant/Cafeteria                                     27\n",
       "Retail: Vehicle Dealership                                       36\n",
       "Service: Other Service                                           69\n",
       "Service: Post Office/Postal Center                                1\n",
       "Service: Repair Shop                                              7\n",
       "Service: Vehicle Service/Repair                                  30\n",
       "Service: Vehicle Storage/Maintenance                             35\n",
       "Stadium/Arena                                                     1\n",
       "Warehouse and Distribution Center: Nonrefrigerated, Distribu     45\n",
       "Warehouse and Distribution Center: Refrigerated                  12\n",
       "Warehouse and Distribution Center: Self Storage Units             2\n",
       "Warehouse and Distribution Center: Warehouse                     43\n",
       "Warehouse: General                                                6\n",
       "Warehouse: Nonrefrigerated Distribution/Shipping                 10\n",
       "Warehouse: Refrigerated                                           1\n",
       "Name: ID, dtype: int64"
      ]
     },
     "execution_count": 8,
     "metadata": {},
     "output_type": "execute_result"
    }
   ],
   "source": [
    "usa.groupby('ProjectTypes').count()['ID']"
   ]
  },
  {
   "cell_type": "markdown",
   "metadata": {},
   "source": [
    "## Owner Type"
   ]
  },
  {
   "cell_type": "code",
   "execution_count": 11,
   "metadata": {
    "collapsed": false
   },
   "outputs": [
    {
     "data": {
      "text/plain": [
       "OwnerTypes\n",
       "Community Development Corporation or Non     1\n",
       "Corporate: Privately Held                   30\n",
       "Corporate: Publicly Traded                   3\n",
       "Educational: College, Private                2\n",
       "Educational: College, Public                 1\n",
       "Educational: University, Private             3\n",
       "Government Use: Federal                      2\n",
       "Government Use: Local, City                  1\n",
       "Government Use: Local, County                2\n",
       "Government Use: State                        2\n",
       "Investor: Individual/Family                  1\n",
       "Investor: REIT, Publicly traded              4\n",
       "Non-Profit (that do not fit into other c     1\n",
       "Name: ID, dtype: int64"
      ]
     },
     "execution_count": 11,
     "metadata": {},
     "output_type": "execute_result"
    }
   ],
   "source": [
    "turkey.groupby('OwnerTypes').count()['ID']"
   ]
  },
  {
   "cell_type": "code",
   "execution_count": 12,
   "metadata": {
    "collapsed": false
   },
   "outputs": [
    {
     "data": {
      "text/plain": [
       "OwnerTypes\n",
       "Community Development Corporation o          1\n",
       "Corporate: Privately Held                   43\n",
       "Corporate: Publicly Traded                  67\n",
       "Educational: College, Public                 1\n",
       "Government Use: Local, City                  6\n",
       "Government Use: Other (utility, air          1\n",
       "Government Use: Other (utility, airport,     2\n",
       "Government Use: State                        2\n",
       "Investor: Investment Manager                 3\n",
       "Investor: REIT, Publicly traded              2\n",
       "Non-Profit (that do not fit into other c     1\n",
       "Name: ID, dtype: int64"
      ]
     },
     "execution_count": 12,
     "metadata": {},
     "output_type": "execute_result"
    }
   ],
   "source": [
    "china.groupby('OwnerTypes').count()['ID']"
   ]
  },
  {
   "cell_type": "code",
   "execution_count": 13,
   "metadata": {
    "collapsed": false
   },
   "outputs": [
    {
     "data": {
      "text/plain": [
       "OwnerTypes\n",
       "Community Development Corporation or Non     1\n",
       "Corporate: Privately Held                   25\n",
       "Corporate: Publicly Traded                   1\n",
       "Government Use: Local, City                  1\n",
       "Government Use: Other (utility, air          1\n",
       "Government Use: State                        3\n",
       "Investor: Bank                               1\n",
       "Non-Profit (that do not fit into other c     3\n",
       "Name: ID, dtype: int64"
      ]
     },
     "execution_count": 13,
     "metadata": {},
     "output_type": "execute_result"
    }
   ],
   "source": [
    "brazil.groupby('OwnerTypes').count()['ID']"
   ]
  },
  {
   "cell_type": "code",
   "execution_count": 14,
   "metadata": {
    "collapsed": false
   },
   "outputs": [
    {
     "data": {
      "text/plain": [
       "OwnerTypes\n",
       "Business Improvement District            2\n",
       "Community Development Corporation o     24\n",
       "Corporate: Privately Held              592\n",
       "Corporate: Publicly Traded             235\n",
       "Educational: College, Private          103\n",
       "Educational: College, Public           146\n",
       "Educational: Community College, Pri      3\n",
       "Educational: Community College, Pub     68\n",
       "Educational: Early Childhood Educat      7\n",
       "Educational: K-12 School, Private       14\n",
       "Educational: K-12 School, Public        11\n",
       "Educational: University, Private       109\n",
       "Educational: University, Public        216\n",
       "Government Use: Federal                354\n",
       "Government Use: Local, City            255\n",
       "Government Use: Local, County          129\n",
       "Government Use: Local, Public Housi      5\n",
       "Government Use: Other (utility, air     49\n",
       "Government Use: State                  158\n",
       "Investor: Bank                          54\n",
       "Investor: Endowment                      2\n",
       "Investor: Equity Fund                    5\n",
       "Investor: Individual/Family             46\n",
       "Investor: Insurance Company              5\n",
       "Investor: Investment Manager            18\n",
       "Investor: REIT, Publicly traded         19\n",
       "Investor: REIT,Non-traded               19\n",
       "Investor: ROEC                           1\n",
       "Main Street Organization                 1\n",
       "Non-Profit (that do not fit into ot    234\n",
       "Religious                               22\n",
       "Name: ID, dtype: int64"
      ]
     },
     "execution_count": 14,
     "metadata": {},
     "output_type": "execute_result"
    }
   ],
   "source": [
    "usa.groupby('OwnerTypes').count()['ID']"
   ]
  },
  {
   "cell_type": "code",
   "execution_count": 20,
   "metadata": {
    "collapsed": true
   },
   "outputs": [],
   "source": [
    "def filter_owner(df):\n",
    "    return(df[df[\"OwnerTypes\"] == 'Corporate: Privately Held'])\n",
    "    "
   ]
  },
  {
   "cell_type": "code",
   "execution_count": 21,
   "metadata": {
    "collapsed": true
   },
   "outputs": [],
   "source": [
    "turkey_private = filter_owner(turkey)\n",
    "usa_private = filter_owner(usa)\n",
    "china_private = filter_owner(china)\n",
    "brazil_private = filter_owner(brazil)"
   ]
  },
  {
   "cell_type": "markdown",
   "metadata": {},
   "source": [
    "## Normal Distribution Test "
   ]
  },
  {
   "cell_type": "code",
   "execution_count": null,
   "metadata": {
    "collapsed": true
   },
   "outputs": [],
   "source": [
    "import scipy.stats as stats"
   ]
  },
  {
   "cell_type": "code",
   "execution_count": 39,
   "metadata": {
    "collapsed": false
   },
   "outputs": [
    {
     "data": {
      "text/plain": [
       "NormaltestResult(statistic=4.0493412580840111, pvalue=0.13203732528688755)"
      ]
     },
     "execution_count": 39,
     "metadata": {},
     "output_type": "execute_result"
    }
   ],
   "source": [
    "stats.normaltest(turkey_private.PointsAchieved)"
   ]
  },
  {
   "cell_type": "code",
   "execution_count": 40,
   "metadata": {
    "collapsed": false
   },
   "outputs": [
    {
     "data": {
      "text/plain": [
       "NormaltestResult(statistic=106.81800886677151, pvalue=6.3791687472682691e-24)"
      ]
     },
     "execution_count": 40,
     "metadata": {},
     "output_type": "execute_result"
    }
   ],
   "source": [
    "stats.normaltest(usa_private.PointsAchieved)"
   ]
  },
  {
   "cell_type": "markdown",
   "metadata": {},
   "source": [
    "### USA data is not normally distributed "
   ]
  },
  {
   "cell_type": "code",
   "execution_count": 41,
   "metadata": {
    "collapsed": false
   },
   "outputs": [
    {
     "data": {
      "text/plain": [
       "NormaltestResult(statistic=1.2756782547669323, pvalue=0.52843306775210641)"
      ]
     },
     "execution_count": 41,
     "metadata": {},
     "output_type": "execute_result"
    }
   ],
   "source": [
    "stats.normaltest(china_private.PointsAchieved)"
   ]
  },
  {
   "cell_type": "code",
   "execution_count": 42,
   "metadata": {
    "collapsed": false
   },
   "outputs": [
    {
     "data": {
      "text/plain": [
       "NormaltestResult(statistic=2.428493115546241, pvalue=0.29693365238656422)"
      ]
     },
     "execution_count": 42,
     "metadata": {},
     "output_type": "execute_result"
    }
   ],
   "source": [
    "stats.normaltest(brazil_private.PointsAchieved)"
   ]
  },
  {
   "cell_type": "markdown",
   "metadata": {},
   "source": [
    "## Statisical Difference in Privately held Companies by Country"
   ]
  },
  {
   "cell_type": "code",
   "execution_count": 24,
   "metadata": {
    "collapsed": true
   },
   "outputs": [],
   "source": [
    "a_list = ['TR', 'US', 'CN', 'BR']"
   ]
  },
  {
   "cell_type": "code",
   "execution_count": 46,
   "metadata": {
    "collapsed": false
   },
   "outputs": [
    {
     "data": {
      "text/plain": [
       "[('TR', 'US'),\n",
       " ('TR', 'CN'),\n",
       " ('TR', 'BR'),\n",
       " ('US', 'CN'),\n",
       " ('US', 'BR'),\n",
       " ('CN', 'BR')]"
      ]
     },
     "execution_count": 46,
     "metadata": {},
     "output_type": "execute_result"
    }
   ],
   "source": [
    "my_list = itertools.combinations(a_list, 2)\n",
    "list(my_list)"
   ]
  },
  {
   "cell_type": "code",
   "execution_count": 34,
   "metadata": {
    "collapsed": false
   },
   "outputs": [],
   "source": [
    "def my_t_test(df1, df2, c1, c2):\n",
    "        one = df1[df1['Country'] == c1].PointsAchieved\n",
    "        two = df2[df2['Country'] == c2].PointsAchieved\n",
    "        t, p = ttest_ind(one, two, equal_var=False)\n",
    "        print(\"{}, {}\\n t {}, p {}\".format(c1, c2, t, p))\n",
    "#         if p <= 0.05:\n",
    "#             stat_difference.append({i: (t, p)})\n",
    "#     return(stat_difference)"
   ]
  },
  {
   "cell_type": "code",
   "execution_count": 35,
   "metadata": {
    "collapsed": false
   },
   "outputs": [
    {
     "name": "stdout",
     "output_type": "stream",
     "text": [
      "TR, US\n",
      " t 4.643908223483067, p 5.638557687964413e-05\n",
      "TR, CN\n",
      " t 0.24100620169474948, p 0.8104081077921602\n",
      "TR, BR\n",
      " t 3.0467075834925725, p 0.003780096119642822\n",
      "US, CN\n",
      " t -5.782041872308198, p 4.873129705171188e-07\n",
      "US, BR\n",
      " t -1.7693664842549446, p 0.08691070553139825\n",
      "CN, BR\n",
      " t 3.405440858065395, p 0.0011344508354554346\n"
     ]
    }
   ],
   "source": [
    "my_t_test(turkey_private, usa_private, 'TR', 'US')\n",
    "my_t_test(turkey_private, china_private, 'TR', 'CN')\n",
    "my_t_test(turkey_private, brazil_private, 'TR', 'BR')\n",
    "my_t_test(usa_private, china_private, 'US', 'CN')\n",
    "my_t_test(usa_private, brazil_private, 'US', 'BR')\n",
    "my_t_test(china_private, brazil_private, 'CN', 'BR')"
   ]
  },
  {
   "cell_type": "markdown",
   "metadata": {},
   "source": [
    "Drastically different in how they perform. "
   ]
  },
  {
   "cell_type": "markdown",
   "metadata": {},
   "source": [
    "### Can't look at USA p-values"
   ]
  },
  {
   "cell_type": "markdown",
   "metadata": {},
   "source": [
    "## Mann Whitney U Test"
   ]
  },
  {
   "cell_type": "code",
   "execution_count": 48,
   "metadata": {
    "collapsed": false
   },
   "outputs": [
    {
     "data": {
      "text/plain": [
       "[('TR', 'US'),\n",
       " ('TR', 'CN'),\n",
       " ('TR', 'BR'),\n",
       " ('US', 'CN'),\n",
       " ('US', 'BR'),\n",
       " ('CN', 'BR')]"
      ]
     },
     "execution_count": 48,
     "metadata": {},
     "output_type": "execute_result"
    }
   ],
   "source": [
    "my_list = itertools.combinations(a_list, 2)\n",
    "list(my_list)"
   ]
  },
  {
   "cell_type": "code",
   "execution_count": 52,
   "metadata": {
    "collapsed": false
   },
   "outputs": [
    {
     "name": "stdout",
     "output_type": "stream",
     "text": [
      "TR, US\n",
      " MannwhitneyuResult(statistic=4323.5, pvalue=1.0190524052380321e-06)\n",
      "TR, CN\n",
      " MannwhitneyuResult(statistic=631.5, pvalue=0.4419573210567016)\n",
      "TR, BR\n",
      " MannwhitneyuResult(statistic=208.5, pvalue=0.0024271230944570591)\n",
      "US, CN\n",
      " MannwhitneyuResult(statistic=6168.5, pvalue=7.9101733986702824e-09)\n",
      "US, BR\n",
      " MannwhitneyuResult(statistic=5853.5, pvalue=0.03812763362142884)\n",
      "CN, BR\n",
      " MannwhitneyuResult(statistic=291.0, pvalue=0.00085886848551532677)\n"
     ]
    }
   ],
   "source": [
    "print(\"{}, {}\\n {}\".format('TR', 'US', stats.mannwhitneyu(turkey_private.PointsAchieved, usa_private.PointsAchieved)))\n",
    "print(\"{}, {}\\n {}\".format('TR', 'CN', stats.mannwhitneyu(turkey_private.PointsAchieved, china_private.PointsAchieved)))\n",
    "print(\"{}, {}\\n {}\".format('TR', 'BR', stats.mannwhitneyu(turkey_private.PointsAchieved, brazil_private.PointsAchieved)))\n",
    "print(\"{}, {}\\n {}\".format('US', 'CN', stats.mannwhitneyu(usa_private.PointsAchieved, china_private.PointsAchieved)))\n",
    "print(\"{}, {}\\n {}\".format('US', 'BR', stats.mannwhitneyu(usa_private.PointsAchieved, brazil_private.PointsAchieved)))\n",
    "print(\"{}, {}\\n {}\".format('CN', 'BR', stats.mannwhitneyu(china_private.PointsAchieved, brazil_private.PointsAchieved)))"
   ]
  },
  {
   "cell_type": "code",
   "execution_count": null,
   "metadata": {
    "collapsed": true
   },
   "outputs": [],
   "source": []
  }
 ],
 "metadata": {
  "kernelspec": {
   "display_name": "Python 3",
   "language": "python",
   "name": "python3"
  },
  "language_info": {
   "codemirror_mode": {
    "name": "ipython",
    "version": 3
   },
   "file_extension": ".py",
   "mimetype": "text/x-python",
   "name": "python",
   "nbconvert_exporter": "python",
   "pygments_lexer": "ipython3",
   "version": "3.4.3"
  }
 },
 "nbformat": 4,
 "nbformat_minor": 0
}
