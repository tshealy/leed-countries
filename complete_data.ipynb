{
 "cells": [
  {
   "cell_type": "code",
   "execution_count": 1,
   "metadata": {
    "collapsed": false
   },
   "outputs": [],
   "source": [
    "import pandas as pd\n",
    "import sqlite3\n",
    "import itertools\n",
    "import numpy as np\n",
    "from scipy import stats\n",
    "from scipy.stats import ttest_ind\n",
    "from scipy.stats import mannwhitneyu\n",
    "from scipy.stats import chi2_contingency\n",
    "import matplotlib.pyplot as plt\n",
    "%matplotlib inline"
   ]
  },
  {
   "cell_type": "code",
   "execution_count": 2,
   "metadata": {
    "collapsed": false
   },
   "outputs": [],
   "source": [
    "turkey = pd.read_pickle(\"data/turkey_credits.pickle\")\n",
    "china = pd.read_pickle(\"data/china_credits.pickle\")\n",
    "brazil = pd.read_pickle(\"data/brazil_credits.pickle\")\n",
    "usa = pd.read_pickle(\"data/usa_credits_all.pickle\")"
   ]
  },
  {
   "cell_type": "code",
   "execution_count": 3,
   "metadata": {
    "collapsed": true
   },
   "outputs": [],
   "source": [
    "possible_total = pd.read_pickle(\"data/possible_credits_2009.pickle\")\n",
    "possible_total.rename(columns={0: 'possible_points'}, inplace=True)"
   ]
  },
  {
   "cell_type": "code",
   "execution_count": 4,
   "metadata": {
    "collapsed": false
   },
   "outputs": [],
   "source": [
    "def get_credits(country):\n",
    "    credits = country.iloc[:,19:67].transpose()\n",
    "    return(credits)"
   ]
  },
  {
   "cell_type": "code",
   "execution_count": 5,
   "metadata": {
    "collapsed": false
   },
   "outputs": [],
   "source": [
    "def row_sum(country):\n",
    "    credits = country.iloc[:,19:67].transpose()\n",
    "    my_list = []\n",
    "    for row in credits.iloc[:, :30].iterrows():\n",
    "        index, total = row\n",
    "        my_list.append(total.tolist())\n",
    "    my_totals = []\n",
    "    for i in my_list:\n",
    "        my_totals.append(np.sum(i))\n",
    "    return(my_totals)"
   ]
  },
  {
   "cell_type": "code",
   "execution_count": 6,
   "metadata": {
    "collapsed": true
   },
   "outputs": [],
   "source": [
    "def row_mean(country):\n",
    "    credits = country.iloc[:,19:67].transpose()\n",
    "    my_list = []\n",
    "    for row in credits.iloc[:, :30].iterrows():\n",
    "        index, total = row\n",
    "        my_list.append(total.tolist())\n",
    "    my_totals = []\n",
    "    for i in my_list:\n",
    "        my_totals.append(np.mean(i))\n",
    "    return(my_totals)"
   ]
  },
  {
   "cell_type": "code",
   "execution_count": 7,
   "metadata": {
    "collapsed": true
   },
   "outputs": [],
   "source": [
    "def row_median(country):\n",
    "    credits = country.iloc[:,19:67].transpose()\n",
    "    my_list = []\n",
    "    for row in credits.iloc[:, :30].iterrows():\n",
    "        index, total = row\n",
    "        my_list.append(total.tolist())\n",
    "    my_totals = []\n",
    "    for i in my_list:\n",
    "        my_totals.append(np.median(i))\n",
    "    return(my_totals)"
   ]
  },
  {
   "cell_type": "code",
   "execution_count": 8,
   "metadata": {
    "collapsed": true
   },
   "outputs": [],
   "source": [
    "def sum_mean_median(country):\n",
    "    totals = row_sum(country)\n",
    "    mean = row_mean(country)\n",
    "    median = row_median(country)\n",
    "    credits = get_credits(country)\n",
    "    credits['totals'] = totals \n",
    "    credits['mean'] = mean\n",
    "    credits['median'] = median\n",
    "    return(credits)"
   ]
  },
  {
   "cell_type": "code",
   "execution_count": 9,
   "metadata": {
    "collapsed": false
   },
   "outputs": [],
   "source": [
    "def percent_achieved(credits):\n",
    "    credits = credits.join(possible_total)\n",
    "    percent_achieved = [(m / p)*100 for m,p in zip(credits['mean'].tolist(), credits['possible_points'].tolist())]\n",
    "    rounded_percent = [float(format(i, '.2f')) for i in percent_achieved]\n",
    "    credits['percent_achieved'] = rounded_percent\n",
    "    return(credits)"
   ]
  },
  {
   "cell_type": "code",
   "execution_count": 10,
   "metadata": {
    "collapsed": true
   },
   "outputs": [],
   "source": [
    "def percent_frequency(credits):\n",
    "    percent_list = []\n",
    "    for row in credits.iloc[:, :30].iterrows():\n",
    "        index, total = row\n",
    "        row_count = 0  \n",
    "        for i in total:\n",
    "            if i > 0:\n",
    "                row_count += 1\n",
    "        row_total = len(total)\n",
    "        percent_list.append(float((row_count/row_total)))\n",
    "    return(percent_list)"
   ]
  },
  {
   "cell_type": "code",
   "execution_count": 11,
   "metadata": {
    "collapsed": true
   },
   "outputs": [],
   "source": [
    "def complete_data(country):\n",
    "    credits = sum_mean_median(country)\n",
    "    credits = percent_achieved(credits)\n",
    "    credits['percent_frequency'] = percent_frequency(credits)\n",
    "    return(credits)"
   ]
  },
  {
   "cell_type": "code",
   "execution_count": 12,
   "metadata": {
    "collapsed": false
   },
   "outputs": [],
   "source": [
    "turkey_credits = complete_data(turkey)\n",
    "china_credits = complete_data(china)\n",
    "usa_credits = complete_data(usa)\n",
    "brazil_credits = complete_data(brazil)"
   ]
  },
  {
   "cell_type": "code",
   "execution_count": 13,
   "metadata": {
    "collapsed": false
   },
   "outputs": [],
   "source": [
    "percent_list = [turkey_credits.percent_achieved.tolist(), \n",
    "                china_credits.percent_achieved.tolist(), \n",
    "                usa_credits.percent_achieved.tolist(), \n",
    "                brazil_credits.percent_achieved.tolist()]"
   ]
  },
  {
   "cell_type": "code",
   "execution_count": 14,
   "metadata": {
    "collapsed": true
   },
   "outputs": [],
   "source": [
    "def my_t_test(a_list):\n",
    "    percent_list = list(itertools.combinations(a_list, 2))\n",
    "    for i in percent_list:\n",
    "        t, p = ttest_ind(i[0], i[1], equal_var=False)\n",
    "        print(t,p)"
   ]
  },
  {
   "cell_type": "code",
   "execution_count": 15,
   "metadata": {
    "collapsed": false
   },
   "outputs": [
    {
     "name": "stdout",
     "output_type": "stream",
     "text": [
      "0.0153506380298 0.987785262353\n",
      "0.556715673887 0.579065329475\n",
      "1.15942973581 0.24922411371\n",
      "0.510802997573 0.610742271799\n",
      "1.0912989669 0.277936847141\n",
      "0.68410301696 0.495642017244\n"
     ]
    }
   ],
   "source": [
    "my_t_test(percent_list)"
   ]
  },
  {
   "cell_type": "markdown",
   "metadata": {},
   "source": [
    "By country the points earned by credit are not statisically different"
   ]
  },
  {
   "cell_type": "code",
   "execution_count": 16,
   "metadata": {
    "collapsed": false
   },
   "outputs": [],
   "source": [
    "frequency_list = [turkey_credits['percent_frequency'].tolist(), \n",
    "            china_credits['percent_frequency'].tolist(), \n",
    "            usa_credits['percent_frequency'].tolist(), \n",
    "            brazil_credits['percent_frequency'].tolist()]"
   ]
  },
  {
   "cell_type": "code",
   "execution_count": 17,
   "metadata": {
    "collapsed": false
   },
   "outputs": [
    {
     "name": "stdout",
     "output_type": "stream",
     "text": [
      "-0.142103585545 0.887304743431\n",
      "0.739323456561 0.461574757264\n",
      "0.151001003081 0.880298758881\n",
      "0.851026944528 0.397000447328\n",
      "0.28782756408 0.774121077159\n",
      "-0.591572602686 0.555566189933\n"
     ]
    }
   ],
   "source": [
    "my_t_test(frequency_list)"
   ]
  },
  {
   "cell_type": "markdown",
   "metadata": {},
   "source": [
    "By Country the frequncy of meeting certain credits is not different. "
   ]
  },
  {
   "cell_type": "code",
   "execution_count": 18,
   "metadata": {
    "collapsed": false
   },
   "outputs": [
    {
     "data": {
      "text/plain": [
       "[1, 3, 5]"
      ]
     },
     "execution_count": 18,
     "metadata": {},
     "output_type": "execute_result"
    }
   ],
   "source": [
    "one = [[1, 3, 5], [2, 4, 6]]\n",
    "two = [[7, 9, 11], [8, 10, 12]]\n",
    "three = list(zip(one, two))\n",
    "three[0][0]"
   ]
  },
  {
   "cell_type": "markdown",
   "metadata": {},
   "source": [
    "#### T Test for Individual Credits"
   ]
  },
  {
   "cell_type": "code",
   "execution_count": 19,
   "metadata": {
    "collapsed": false
   },
   "outputs": [
    {
     "data": {
      "text/html": [
       "<div>\n",
       "<table border=\"1\" class=\"dataframe\">\n",
       "  <thead>\n",
       "    <tr style=\"text-align: right;\">\n",
       "      <th></th>\n",
       "      <th>55568</th>\n",
       "      <th>55980</th>\n",
       "      <th>56020</th>\n",
       "      <th>58487</th>\n",
       "      <th>60401</th>\n",
       "      <th>60677</th>\n",
       "      <th>62045</th>\n",
       "      <th>63739</th>\n",
       "      <th>66772</th>\n",
       "      <th>67513</th>\n",
       "      <th>...</th>\n",
       "      <th>76492</th>\n",
       "      <th>76654</th>\n",
       "      <th>77431</th>\n",
       "      <th>77803</th>\n",
       "      <th>78615</th>\n",
       "      <th>78751</th>\n",
       "      <th>79378</th>\n",
       "      <th>81863</th>\n",
       "      <th>82069</th>\n",
       "      <th>94271</th>\n",
       "    </tr>\n",
       "  </thead>\n",
       "  <tbody>\n",
       "    <tr>\n",
       "      <th>EAc1</th>\n",
       "      <td>0</td>\n",
       "      <td>1</td>\n",
       "      <td>1</td>\n",
       "      <td>0</td>\n",
       "      <td>1</td>\n",
       "      <td>0</td>\n",
       "      <td>0</td>\n",
       "      <td>1</td>\n",
       "      <td>0</td>\n",
       "      <td>0</td>\n",
       "      <td>...</td>\n",
       "      <td>0</td>\n",
       "      <td>1</td>\n",
       "      <td>1</td>\n",
       "      <td>1</td>\n",
       "      <td>1</td>\n",
       "      <td>1</td>\n",
       "      <td>1</td>\n",
       "      <td>1</td>\n",
       "      <td>1</td>\n",
       "      <td>1</td>\n",
       "    </tr>\n",
       "    <tr>\n",
       "      <th>EAc2</th>\n",
       "      <td>0</td>\n",
       "      <td>1</td>\n",
       "      <td>1</td>\n",
       "      <td>0</td>\n",
       "      <td>0</td>\n",
       "      <td>2</td>\n",
       "      <td>0</td>\n",
       "      <td>0</td>\n",
       "      <td>0</td>\n",
       "      <td>0</td>\n",
       "      <td>...</td>\n",
       "      <td>0</td>\n",
       "      <td>1</td>\n",
       "      <td>0</td>\n",
       "      <td>1</td>\n",
       "      <td>0</td>\n",
       "      <td>0</td>\n",
       "      <td>0</td>\n",
       "      <td>0</td>\n",
       "      <td>0</td>\n",
       "      <td>0</td>\n",
       "    </tr>\n",
       "    <tr>\n",
       "      <th>IDc1</th>\n",
       "      <td>4</td>\n",
       "      <td>1</td>\n",
       "      <td>5</td>\n",
       "      <td>4</td>\n",
       "      <td>4</td>\n",
       "      <td>5</td>\n",
       "      <td>4</td>\n",
       "      <td>3</td>\n",
       "      <td>2</td>\n",
       "      <td>3</td>\n",
       "      <td>...</td>\n",
       "      <td>5</td>\n",
       "      <td>4</td>\n",
       "      <td>4</td>\n",
       "      <td>5</td>\n",
       "      <td>4</td>\n",
       "      <td>3</td>\n",
       "      <td>2</td>\n",
       "      <td>4</td>\n",
       "      <td>4</td>\n",
       "      <td>4</td>\n",
       "    </tr>\n",
       "  </tbody>\n",
       "</table>\n",
       "<p>3 rows × 30 columns</p>\n",
       "</div>"
      ],
      "text/plain": [
       "      55568  55980  56020  58487  60401  60677  62045  63739  66772  67513  \\\n",
       "EAc1      0      1      1      0      1      0      0      1      0      0   \n",
       "EAc2      0      1      1      0      0      2      0      0      0      0   \n",
       "IDc1      4      1      5      4      4      5      4      3      2      3   \n",
       "\n",
       "      ...    76492  76654  77431  77803  78615  78751  79378  81863  82069  \\\n",
       "EAc1  ...        0      1      1      1      1      1      1      1      1   \n",
       "EAc2  ...        0      1      0      1      0      0      0      0      0   \n",
       "IDc1  ...        5      4      4      5      4      3      2      4      4   \n",
       "\n",
       "      94271  \n",
       "EAc1      1  \n",
       "EAc2      0  \n",
       "IDc1      4  \n",
       "\n",
       "[3 rows x 30 columns]"
      ]
     },
     "execution_count": 19,
     "metadata": {},
     "output_type": "execute_result"
    }
   ],
   "source": [
    "turkey_credits.iloc[[0, 1, 21], :-6]"
   ]
  },
  {
   "cell_type": "code",
   "execution_count": 20,
   "metadata": {
    "collapsed": false
   },
   "outputs": [],
   "source": [
    "def credit_t_test(df1, df2):\n",
    "    first_list_total = []\n",
    "    first_list_index = []\n",
    "    for row in df1.iloc[[0, 1, 21], :-6].iterrows():\n",
    "        index1, total1 = row\n",
    "        first_list_total.append(total1.tolist())\n",
    "        first_list_index.append(index1)\n",
    "    second_list_total = []\n",
    "    second_list_index = []\n",
    "    for row in df2.iloc[[0, 1, 21], :-6].iterrows():\n",
    "        index2, total2 = row\n",
    "        second_list_total.append(total2.tolist())\n",
    "        second_list_index.append(index2)\n",
    "    t_test_list = list(zip(first_list_total, second_list_total))\n",
    "    count = 0\n",
    "    for i in t_test_list:\n",
    "        a = [float(j) for j in i[0]]\n",
    "        b = [float(k) for k in i[1]]\n",
    "        t, p = ttest_ind(a, b, equal_var=False)\n",
    "        if p < 0.05:\n",
    "            print(\"{}: t {}, p {}\".format(first_list_index[count], t,p))\n",
    "        count += 1"
   ]
  },
  {
   "cell_type": "markdown",
   "metadata": {},
   "source": [
    "The only credits worth looking at are the EAc1, EAc2 and IDc1"
   ]
  },
  {
   "cell_type": "code",
   "execution_count": 21,
   "metadata": {
    "collapsed": false
   },
   "outputs": [
    {
     "data": {
      "text/plain": [
       "[('BR', 'CN'),\n",
       " ('BR', 'TR'),\n",
       " ('BR', 'US'),\n",
       " ('CN', 'TR'),\n",
       " ('CN', 'US'),\n",
       " ('TR', 'US')]"
      ]
     },
     "execution_count": 21,
     "metadata": {},
     "output_type": "execute_result"
    }
   ],
   "source": [
    "list_2009 = ['BR', 'CN', 'TR', 'US']\n",
    "country_list = list(itertools.combinations(list_2009, 2))\n",
    "country_list"
   ]
  },
  {
   "cell_type": "code",
   "execution_count": 22,
   "metadata": {
    "collapsed": false
   },
   "outputs": [
    {
     "name": "stdout",
     "output_type": "stream",
     "text": [
      "IDc1: t 3.0956712584310764, p 0.0029993595184039123\n"
     ]
    }
   ],
   "source": [
    "credit_t_test(brazil_credits, china_credits)"
   ]
  },
  {
   "cell_type": "markdown",
   "metadata": {},
   "source": [
    "Brazil statistaically is more likley (p=0.003) to meet Innovation and design credit 1 compared to china"
   ]
  },
  {
   "cell_type": "code",
   "execution_count": 23,
   "metadata": {
    "collapsed": false
   },
   "outputs": [],
   "source": [
    "credit_t_test(brazil_credits, turkey_credits)"
   ]
  },
  {
   "cell_type": "code",
   "execution_count": 24,
   "metadata": {
    "collapsed": false
   },
   "outputs": [
    {
     "name": "stdout",
     "output_type": "stream",
     "text": [
      "EAc1: t -6.85255472773124, p 7.589062860528424e-08\n",
      "IDc1: t 5.858214180265654, p 1.3887849660477289e-06\n"
     ]
    }
   ],
   "source": [
    "credit_t_test(brazil_credits, usa_credits)"
   ]
  },
  {
   "cell_type": "markdown",
   "metadata": {},
   "source": [
    "Brazil is statistically less likely compared to the USA to meet EAc1 and IDc1"
   ]
  },
  {
   "cell_type": "code",
   "execution_count": 25,
   "metadata": {
    "collapsed": false
   },
   "outputs": [
    {
     "name": "stdout",
     "output_type": "stream",
     "text": [
      "EAc2: t 2.8126004002188094, p 0.006846959297280327\n"
     ]
    }
   ],
   "source": [
    "credit_t_test(china_credits, turkey_credits)"
   ]
  },
  {
   "cell_type": "markdown",
   "metadata": {},
   "source": [
    "China is statisically more likely (p=0.007) to meet EAc2 compared to Turkey"
   ]
  },
  {
   "cell_type": "code",
   "execution_count": 26,
   "metadata": {
    "collapsed": false
   },
   "outputs": [
    {
     "name": "stdout",
     "output_type": "stream",
     "text": [
      "EAc1: t -11.753365595180709, p 1.3053533246248377e-22\n",
      "EAc2: t 3.067690041182334, p 0.0037295742835399223\n",
      "IDc1: t 2.0284895050327143, p 0.046909834484615866\n"
     ]
    }
   ],
   "source": [
    "credit_t_test(china_credits, usa_credits)"
   ]
  },
  {
   "cell_type": "markdown",
   "metadata": {},
   "source": [
    "China does not do well on EAc1 compared to the USA. They do however do much better than the USA on EAc2. They are also slightly better on IDc1."
   ]
  },
  {
   "cell_type": "code",
   "execution_count": 27,
   "metadata": {
    "collapsed": false
   },
   "outputs": [
    {
     "name": "stdout",
     "output_type": "stream",
     "text": [
      "EAc1: t -18.045264541587972, p 6.070549165247458e-58\n",
      "IDc1: t 3.493203144528725, p 0.0012803276186032521\n"
     ]
    }
   ],
   "source": [
    "credit_t_test(turkey_credits, usa_credits)"
   ]
  },
  {
   "cell_type": "markdown",
   "metadata": {},
   "source": [
    "Turkey does really poorly on EAc1 but does better than the USA on IDc1. "
   ]
  },
  {
   "cell_type": "code",
   "execution_count": 28,
   "metadata": {
    "collapsed": false
   },
   "outputs": [
    {
     "data": {
      "text/html": [
       "<div>\n",
       "<table border=\"1\" class=\"dataframe\">\n",
       "  <thead>\n",
       "    <tr style=\"text-align: right;\">\n",
       "      <th></th>\n",
       "      <th>55568</th>\n",
       "      <th>55980</th>\n",
       "      <th>56020</th>\n",
       "      <th>58487</th>\n",
       "      <th>60401</th>\n",
       "      <th>60677</th>\n",
       "      <th>62045</th>\n",
       "      <th>63739</th>\n",
       "      <th>66772</th>\n",
       "      <th>67513</th>\n",
       "      <th>...</th>\n",
       "      <th>76492</th>\n",
       "      <th>76654</th>\n",
       "      <th>77431</th>\n",
       "      <th>77803</th>\n",
       "      <th>78615</th>\n",
       "      <th>78751</th>\n",
       "      <th>79378</th>\n",
       "      <th>81863</th>\n",
       "      <th>82069</th>\n",
       "      <th>94271</th>\n",
       "    </tr>\n",
       "  </thead>\n",
       "  <tbody>\n",
       "    <tr>\n",
       "      <th>MRc1.1</th>\n",
       "      <td>0</td>\n",
       "      <td>3</td>\n",
       "      <td>0</td>\n",
       "      <td>0</td>\n",
       "      <td>3</td>\n",
       "      <td>0</td>\n",
       "      <td>0</td>\n",
       "      <td>0</td>\n",
       "      <td>0</td>\n",
       "      <td>3</td>\n",
       "      <td>...</td>\n",
       "      <td>0</td>\n",
       "      <td>2</td>\n",
       "      <td>0</td>\n",
       "      <td>0</td>\n",
       "      <td>0</td>\n",
       "      <td>0</td>\n",
       "      <td>0</td>\n",
       "      <td>0</td>\n",
       "      <td>0</td>\n",
       "      <td>0</td>\n",
       "    </tr>\n",
       "    <tr>\n",
       "      <th>MRc2</th>\n",
       "      <td>1</td>\n",
       "      <td>1</td>\n",
       "      <td>2</td>\n",
       "      <td>1</td>\n",
       "      <td>0</td>\n",
       "      <td>2</td>\n",
       "      <td>1</td>\n",
       "      <td>2</td>\n",
       "      <td>2</td>\n",
       "      <td>0</td>\n",
       "      <td>...</td>\n",
       "      <td>2</td>\n",
       "      <td>0</td>\n",
       "      <td>1</td>\n",
       "      <td>0</td>\n",
       "      <td>2</td>\n",
       "      <td>2</td>\n",
       "      <td>0</td>\n",
       "      <td>2</td>\n",
       "      <td>2</td>\n",
       "      <td>0</td>\n",
       "    </tr>\n",
       "    <tr>\n",
       "      <th>MRc3</th>\n",
       "      <td>0</td>\n",
       "      <td>0</td>\n",
       "      <td>2</td>\n",
       "      <td>0</td>\n",
       "      <td>0</td>\n",
       "      <td>2</td>\n",
       "      <td>0</td>\n",
       "      <td>2</td>\n",
       "      <td>0</td>\n",
       "      <td>0</td>\n",
       "      <td>...</td>\n",
       "      <td>1</td>\n",
       "      <td>0</td>\n",
       "      <td>0</td>\n",
       "      <td>0</td>\n",
       "      <td>0</td>\n",
       "      <td>0</td>\n",
       "      <td>0</td>\n",
       "      <td>0</td>\n",
       "      <td>0</td>\n",
       "      <td>0</td>\n",
       "    </tr>\n",
       "    <tr>\n",
       "      <th>MRc4</th>\n",
       "      <td>2</td>\n",
       "      <td>0</td>\n",
       "      <td>2</td>\n",
       "      <td>1</td>\n",
       "      <td>0</td>\n",
       "      <td>2</td>\n",
       "      <td>1</td>\n",
       "      <td>2</td>\n",
       "      <td>1</td>\n",
       "      <td>0</td>\n",
       "      <td>...</td>\n",
       "      <td>2</td>\n",
       "      <td>0</td>\n",
       "      <td>1</td>\n",
       "      <td>2</td>\n",
       "      <td>2</td>\n",
       "      <td>2</td>\n",
       "      <td>2</td>\n",
       "      <td>2</td>\n",
       "      <td>2</td>\n",
       "      <td>2</td>\n",
       "    </tr>\n",
       "    <tr>\n",
       "      <th>MRc5</th>\n",
       "      <td>2</td>\n",
       "      <td>2</td>\n",
       "      <td>2</td>\n",
       "      <td>2</td>\n",
       "      <td>1</td>\n",
       "      <td>2</td>\n",
       "      <td>2</td>\n",
       "      <td>2</td>\n",
       "      <td>1</td>\n",
       "      <td>2</td>\n",
       "      <td>...</td>\n",
       "      <td>2</td>\n",
       "      <td>2</td>\n",
       "      <td>2</td>\n",
       "      <td>2</td>\n",
       "      <td>2</td>\n",
       "      <td>2</td>\n",
       "      <td>2</td>\n",
       "      <td>2</td>\n",
       "      <td>2</td>\n",
       "      <td>2</td>\n",
       "    </tr>\n",
       "    <tr>\n",
       "      <th>WEc1</th>\n",
       "      <td>4</td>\n",
       "      <td>1</td>\n",
       "      <td>1</td>\n",
       "      <td>1</td>\n",
       "      <td>2</td>\n",
       "      <td>1</td>\n",
       "      <td>1</td>\n",
       "      <td>1</td>\n",
       "      <td>1</td>\n",
       "      <td>1</td>\n",
       "      <td>...</td>\n",
       "      <td>2</td>\n",
       "      <td>2</td>\n",
       "      <td>4</td>\n",
       "      <td>2</td>\n",
       "      <td>4</td>\n",
       "      <td>4</td>\n",
       "      <td>2</td>\n",
       "      <td>2</td>\n",
       "      <td>4</td>\n",
       "      <td>0</td>\n",
       "    </tr>\n",
       "    <tr>\n",
       "      <th>WEc3</th>\n",
       "      <td>1</td>\n",
       "      <td>1</td>\n",
       "      <td>1</td>\n",
       "      <td>1</td>\n",
       "      <td>0</td>\n",
       "      <td>0</td>\n",
       "      <td>1</td>\n",
       "      <td>1</td>\n",
       "      <td>1</td>\n",
       "      <td>1</td>\n",
       "      <td>...</td>\n",
       "      <td>4</td>\n",
       "      <td>4</td>\n",
       "      <td>4</td>\n",
       "      <td>4</td>\n",
       "      <td>4</td>\n",
       "      <td>4</td>\n",
       "      <td>3</td>\n",
       "      <td>4</td>\n",
       "      <td>4</td>\n",
       "      <td>0</td>\n",
       "    </tr>\n",
       "  </tbody>\n",
       "</table>\n",
       "<p>7 rows × 30 columns</p>\n",
       "</div>"
      ],
      "text/plain": [
       "        55568  55980  56020  58487  60401  60677  62045  63739  66772  67513  \\\n",
       "MRc1.1      0      3      0      0      3      0      0      0      0      3   \n",
       "MRc2        1      1      2      1      0      2      1      2      2      0   \n",
       "MRc3        0      0      2      0      0      2      0      2      0      0   \n",
       "MRc4        2      0      2      1      0      2      1      2      1      0   \n",
       "MRc5        2      2      2      2      1      2      2      2      1      2   \n",
       "WEc1        4      1      1      1      2      1      1      1      1      1   \n",
       "WEc3        1      1      1      1      0      0      1      1      1      1   \n",
       "\n",
       "        ...    76492  76654  77431  77803  78615  78751  79378  81863  82069  \\\n",
       "MRc1.1  ...        0      2      0      0      0      0      0      0      0   \n",
       "MRc2    ...        2      0      1      0      2      2      0      2      2   \n",
       "MRc3    ...        1      0      0      0      0      0      0      0      0   \n",
       "MRc4    ...        2      0      1      2      2      2      2      2      2   \n",
       "MRc5    ...        2      2      2      2      2      2      2      2      2   \n",
       "WEc1    ...        2      2      4      2      4      4      2      2      4   \n",
       "WEc3    ...        4      4      4      4      4      4      3      4      4   \n",
       "\n",
       "        94271  \n",
       "MRc1.1      0  \n",
       "MRc2        0  \n",
       "MRc3        0  \n",
       "MRc4        2  \n",
       "MRc5        2  \n",
       "WEc1        0  \n",
       "WEc3        0  \n",
       "\n",
       "[7 rows x 30 columns]"
      ]
     },
     "execution_count": 28,
     "metadata": {},
     "output_type": "execute_result"
    }
   ],
   "source": [
    "turkey_credits.iloc[[23, 25, 26, 27, 28, 45, 47], :-6]"
   ]
  },
  {
   "cell_type": "markdown",
   "metadata": {},
   "source": [
    "### Mann Whitney U Test with Credits (ordinal data)"
   ]
  },
  {
   "cell_type": "code",
   "execution_count": 29,
   "metadata": {
    "collapsed": true
   },
   "outputs": [],
   "source": [
    "def credit_mann_u(df1, df2):\n",
    "    first_list_total = []\n",
    "    first_list_index = []\n",
    "    for row in df1.iloc[[23, 25, 26, 27, 28, 45, 47], :-6].iterrows():\n",
    "        index1, total1 = row\n",
    "        first_list_total.append(total1.tolist())\n",
    "        first_list_index.append(index1)\n",
    "    second_list_total = []\n",
    "    second_list_index = []\n",
    "    for row in df2.iloc[[23, 25, 26, 27, 28, 45, 47], :-6].iterrows():\n",
    "        index2, total2 = row\n",
    "        second_list_total.append(total2.tolist())\n",
    "        second_list_index.append(index2)\n",
    "    t_test_list = list(zip(first_list_total, second_list_total))\n",
    "    count = 0\n",
    "    for i in t_test_list:\n",
    "        try:\n",
    "            a = [float(j) for j in i[0]]\n",
    "            b = [float(k) for k in i[1]]\n",
    "            mann = mannwhitneyu(a, b)\n",
    "            if mann[1] < 0.05:\n",
    "                print(\"{}: {}\".format(first_list_index[count], mann))\n",
    "        except Exception:\n",
    "            pass\n",
    "        count += 1"
   ]
  },
  {
   "cell_type": "markdown",
   "metadata": {},
   "source": [
    "Credits to consider - WEc1, WEc3, MRc1.1, MRc2, MRc3, MRc4, MRc5, "
   ]
  },
  {
   "cell_type": "code",
   "execution_count": 30,
   "metadata": {
    "collapsed": false
   },
   "outputs": [
    {
     "name": "stdout",
     "output_type": "stream",
     "text": [
      "MRc3: MannwhitneyuResult(statistic=473.0, pvalue=0.01107312103065373)\n",
      "MRc4: MannwhitneyuResult(statistic=394.5, pvalue=0.024848901490810371)\n",
      "WEc3: MannwhitneyuResult(statistic=340.0, pvalue=0.00074423288965303348)\n"
     ]
    }
   ],
   "source": [
    "credit_mann_u(brazil_credits, china_credits)"
   ]
  },
  {
   "cell_type": "markdown",
   "metadata": {},
   "source": [
    "Brazil is statiscially different to china on MRc3, MRc4, WEc3. "
   ]
  },
  {
   "cell_type": "code",
   "execution_count": 31,
   "metadata": {
    "collapsed": false
   },
   "outputs": [
    {
     "name": "stdout",
     "output_type": "stream",
     "text": [
      "MRc4: MannwhitneyuResult(statistic=245.0, pvalue=0.0086083655275030584)\n",
      "WEc1: MannwhitneyuResult(statistic=287.0, pvalue=0.042446521581592032)\n",
      "WEc3: MannwhitneyuResult(statistic=270.5, pvalue=0.015506023455711946)\n"
     ]
    }
   ],
   "source": [
    "credit_mann_u(brazil_credits, turkey_credits)"
   ]
  },
  {
   "cell_type": "markdown",
   "metadata": {},
   "source": [
    "Brazil is statisically different to turkey on MRc4 and WEc1 and WEc3"
   ]
  },
  {
   "cell_type": "code",
   "execution_count": 32,
   "metadata": {
    "collapsed": false
   },
   "outputs": [
    {
     "name": "stdout",
     "output_type": "stream",
     "text": [
      "MRc2: MannwhitneyuResult(statistic=6097.5, pvalue=0.048861519401053898)\n",
      "MRc3: MannwhitneyuResult(statistic=6808.5, pvalue=0.03064718120955922)\n",
      "MRc4: MannwhitneyuResult(statistic=5453.0, pvalue=0.0070134447585492952)\n",
      "MRc5: MannwhitneyuResult(statistic=6001.0, pvalue=0.035015444900773275)\n",
      "WEc1: MannwhitneyuResult(statistic=3706.0, pvalue=4.4711467848901822e-06)\n",
      "WEc3: MannwhitneyuResult(statistic=5314.5, pvalue=0.0072487468100006997)\n"
     ]
    }
   ],
   "source": [
    "credit_mann_u(brazil_credits, usa_credits)"
   ]
  },
  {
   "cell_type": "code",
   "execution_count": 33,
   "metadata": {
    "collapsed": false
   },
   "outputs": [
    {
     "name": "stdout",
     "output_type": "stream",
     "text": [
      "MRc2: MannwhitneyuResult(statistic=464.0, pvalue=0.0041866298572602904)\n",
      "MRc3: MannwhitneyuResult(statistic=559.0, pvalue=0.0075287572312117542)\n"
     ]
    }
   ],
   "source": [
    "credit_mann_u(china_credits, turkey_credits)"
   ]
  },
  {
   "cell_type": "code",
   "execution_count": 34,
   "metadata": {
    "collapsed": false
   },
   "outputs": [
    {
     "name": "stdout",
     "output_type": "stream",
     "text": [
      "MRc2: MannwhitneyuResult(statistic=9155.5, pvalue=0.00028292665062429936)\n",
      "MRc5: MannwhitneyuResult(statistic=9254.5, pvalue=0.0003179930895000959)\n",
      "WEc1: MannwhitneyuResult(statistic=6979.0, pvalue=1.104474636969341e-07)\n"
     ]
    }
   ],
   "source": [
    "credit_mann_u(china_credits, usa_credits)"
   ]
  },
  {
   "cell_type": "code",
   "execution_count": 35,
   "metadata": {
    "collapsed": false
   },
   "outputs": [
    {
     "name": "stdout",
     "output_type": "stream",
     "text": [
      "MRc3: MannwhitneyuResult(statistic=8033.0, pvalue=0.0079161140867656399)\n",
      "MRc5: MannwhitneyuResult(statistic=6395.0, pvalue=0.0016215020698953581)\n",
      "WEc1: MannwhitneyuResult(statistic=6211.5, pvalue=0.0017825368446797961)\n"
     ]
    }
   ],
   "source": [
    "credit_mann_u(turkey_credits, usa_credits)"
   ]
  },
  {
   "cell_type": "code",
   "execution_count": 36,
   "metadata": {
    "collapsed": false
   },
   "outputs": [
    {
     "data": {
      "text/html": [
       "<div>\n",
       "<table border=\"1\" class=\"dataframe\">\n",
       "  <thead>\n",
       "    <tr style=\"text-align: right;\">\n",
       "      <th></th>\n",
       "      <th>55568</th>\n",
       "      <th>55980</th>\n",
       "      <th>56020</th>\n",
       "      <th>58487</th>\n",
       "      <th>60401</th>\n",
       "      <th>60677</th>\n",
       "      <th>62045</th>\n",
       "      <th>63739</th>\n",
       "      <th>66772</th>\n",
       "      <th>67513</th>\n",
       "      <th>...</th>\n",
       "      <th>76492</th>\n",
       "      <th>76654</th>\n",
       "      <th>77431</th>\n",
       "      <th>77803</th>\n",
       "      <th>78615</th>\n",
       "      <th>78751</th>\n",
       "      <th>79378</th>\n",
       "      <th>81863</th>\n",
       "      <th>82069</th>\n",
       "      <th>94271</th>\n",
       "    </tr>\n",
       "  </thead>\n",
       "  <tbody>\n",
       "    <tr>\n",
       "      <th>EAc3</th>\n",
       "      <td>2</td>\n",
       "      <td>0</td>\n",
       "      <td>1</td>\n",
       "      <td>0</td>\n",
       "      <td>0</td>\n",
       "      <td>1</td>\n",
       "      <td>0</td>\n",
       "      <td>0</td>\n",
       "      <td>0</td>\n",
       "      <td>0</td>\n",
       "      <td>...</td>\n",
       "      <td>0</td>\n",
       "      <td>0</td>\n",
       "      <td>0</td>\n",
       "      <td>2</td>\n",
       "      <td>0</td>\n",
       "      <td>0</td>\n",
       "      <td>0</td>\n",
       "      <td>0</td>\n",
       "      <td>0</td>\n",
       "      <td>0</td>\n",
       "    </tr>\n",
       "    <tr>\n",
       "      <th>EAc4</th>\n",
       "      <td>2</td>\n",
       "      <td>2</td>\n",
       "      <td>2</td>\n",
       "      <td>2</td>\n",
       "      <td>2</td>\n",
       "      <td>2</td>\n",
       "      <td>2</td>\n",
       "      <td>2</td>\n",
       "      <td>2</td>\n",
       "      <td>2</td>\n",
       "      <td>...</td>\n",
       "      <td>2</td>\n",
       "      <td>2</td>\n",
       "      <td>2</td>\n",
       "      <td>2</td>\n",
       "      <td>2</td>\n",
       "      <td>2</td>\n",
       "      <td>2</td>\n",
       "      <td>2</td>\n",
       "      <td>2</td>\n",
       "      <td>0</td>\n",
       "    </tr>\n",
       "    <tr>\n",
       "      <th>EAc5</th>\n",
       "      <td>3</td>\n",
       "      <td>0</td>\n",
       "      <td>1</td>\n",
       "      <td>1</td>\n",
       "      <td>0</td>\n",
       "      <td>1</td>\n",
       "      <td>1</td>\n",
       "      <td>0</td>\n",
       "      <td>1</td>\n",
       "      <td>1</td>\n",
       "      <td>...</td>\n",
       "      <td>1</td>\n",
       "      <td>3</td>\n",
       "      <td>3</td>\n",
       "      <td>3</td>\n",
       "      <td>3</td>\n",
       "      <td>3</td>\n",
       "      <td>3</td>\n",
       "      <td>3</td>\n",
       "      <td>3</td>\n",
       "      <td>0</td>\n",
       "    </tr>\n",
       "    <tr>\n",
       "      <th>EAc6</th>\n",
       "      <td>0</td>\n",
       "      <td>0</td>\n",
       "      <td>2</td>\n",
       "      <td>0</td>\n",
       "      <td>0</td>\n",
       "      <td>0</td>\n",
       "      <td>0</td>\n",
       "      <td>0</td>\n",
       "      <td>0</td>\n",
       "      <td>0</td>\n",
       "      <td>...</td>\n",
       "      <td>0</td>\n",
       "      <td>0</td>\n",
       "      <td>0</td>\n",
       "      <td>0</td>\n",
       "      <td>0</td>\n",
       "      <td>0</td>\n",
       "      <td>0</td>\n",
       "      <td>0</td>\n",
       "      <td>0</td>\n",
       "      <td>0</td>\n",
       "    </tr>\n",
       "    <tr>\n",
       "      <th>EQc1</th>\n",
       "      <td>0</td>\n",
       "      <td>0</td>\n",
       "      <td>1</td>\n",
       "      <td>1</td>\n",
       "      <td>0</td>\n",
       "      <td>1</td>\n",
       "      <td>0</td>\n",
       "      <td>0</td>\n",
       "      <td>0</td>\n",
       "      <td>1</td>\n",
       "      <td>...</td>\n",
       "      <td>0</td>\n",
       "      <td>0</td>\n",
       "      <td>0</td>\n",
       "      <td>1</td>\n",
       "      <td>1</td>\n",
       "      <td>1</td>\n",
       "      <td>1</td>\n",
       "      <td>1</td>\n",
       "      <td>1</td>\n",
       "      <td>0</td>\n",
       "    </tr>\n",
       "    <tr>\n",
       "      <th>EQc2</th>\n",
       "      <td>1</td>\n",
       "      <td>1</td>\n",
       "      <td>1</td>\n",
       "      <td>1</td>\n",
       "      <td>0</td>\n",
       "      <td>1</td>\n",
       "      <td>0</td>\n",
       "      <td>1</td>\n",
       "      <td>1</td>\n",
       "      <td>1</td>\n",
       "      <td>...</td>\n",
       "      <td>1</td>\n",
       "      <td>1</td>\n",
       "      <td>1</td>\n",
       "      <td>1</td>\n",
       "      <td>1</td>\n",
       "      <td>0</td>\n",
       "      <td>1</td>\n",
       "      <td>1</td>\n",
       "      <td>1</td>\n",
       "      <td>1</td>\n",
       "    </tr>\n",
       "    <tr>\n",
       "      <th>EQc3.1</th>\n",
       "      <td>1</td>\n",
       "      <td>0</td>\n",
       "      <td>1</td>\n",
       "      <td>1</td>\n",
       "      <td>1</td>\n",
       "      <td>1</td>\n",
       "      <td>1</td>\n",
       "      <td>1</td>\n",
       "      <td>1</td>\n",
       "      <td>1</td>\n",
       "      <td>...</td>\n",
       "      <td>1</td>\n",
       "      <td>0</td>\n",
       "      <td>1</td>\n",
       "      <td>1</td>\n",
       "      <td>1</td>\n",
       "      <td>1</td>\n",
       "      <td>1</td>\n",
       "      <td>1</td>\n",
       "      <td>1</td>\n",
       "      <td>1</td>\n",
       "    </tr>\n",
       "    <tr>\n",
       "      <th>EQc3.2</th>\n",
       "      <td>1</td>\n",
       "      <td>0</td>\n",
       "      <td>1</td>\n",
       "      <td>1</td>\n",
       "      <td>0</td>\n",
       "      <td>1</td>\n",
       "      <td>0</td>\n",
       "      <td>0</td>\n",
       "      <td>1</td>\n",
       "      <td>1</td>\n",
       "      <td>...</td>\n",
       "      <td>1</td>\n",
       "      <td>0</td>\n",
       "      <td>1</td>\n",
       "      <td>1</td>\n",
       "      <td>1</td>\n",
       "      <td>1</td>\n",
       "      <td>1</td>\n",
       "      <td>1</td>\n",
       "      <td>1</td>\n",
       "      <td>0</td>\n",
       "    </tr>\n",
       "    <tr>\n",
       "      <th>EQc4.1</th>\n",
       "      <td>1</td>\n",
       "      <td>1</td>\n",
       "      <td>1</td>\n",
       "      <td>1</td>\n",
       "      <td>1</td>\n",
       "      <td>1</td>\n",
       "      <td>0</td>\n",
       "      <td>1</td>\n",
       "      <td>0</td>\n",
       "      <td>1</td>\n",
       "      <td>...</td>\n",
       "      <td>1</td>\n",
       "      <td>1</td>\n",
       "      <td>1</td>\n",
       "      <td>1</td>\n",
       "      <td>1</td>\n",
       "      <td>0</td>\n",
       "      <td>0</td>\n",
       "      <td>0</td>\n",
       "      <td>0</td>\n",
       "      <td>0</td>\n",
       "    </tr>\n",
       "    <tr>\n",
       "      <th>EQc4.2</th>\n",
       "      <td>1</td>\n",
       "      <td>1</td>\n",
       "      <td>1</td>\n",
       "      <td>1</td>\n",
       "      <td>1</td>\n",
       "      <td>1</td>\n",
       "      <td>1</td>\n",
       "      <td>1</td>\n",
       "      <td>1</td>\n",
       "      <td>1</td>\n",
       "      <td>...</td>\n",
       "      <td>1</td>\n",
       "      <td>1</td>\n",
       "      <td>0</td>\n",
       "      <td>1</td>\n",
       "      <td>1</td>\n",
       "      <td>1</td>\n",
       "      <td>0</td>\n",
       "      <td>1</td>\n",
       "      <td>1</td>\n",
       "      <td>1</td>\n",
       "    </tr>\n",
       "    <tr>\n",
       "      <th>EQc4.3</th>\n",
       "      <td>0</td>\n",
       "      <td>1</td>\n",
       "      <td>1</td>\n",
       "      <td>0</td>\n",
       "      <td>0</td>\n",
       "      <td>0</td>\n",
       "      <td>0</td>\n",
       "      <td>0</td>\n",
       "      <td>0</td>\n",
       "      <td>1</td>\n",
       "      <td>...</td>\n",
       "      <td>0</td>\n",
       "      <td>1</td>\n",
       "      <td>0</td>\n",
       "      <td>0</td>\n",
       "      <td>1</td>\n",
       "      <td>0</td>\n",
       "      <td>0</td>\n",
       "      <td>0</td>\n",
       "      <td>1</td>\n",
       "      <td>0</td>\n",
       "    </tr>\n",
       "    <tr>\n",
       "      <th>EQc4.4</th>\n",
       "      <td>0</td>\n",
       "      <td>0</td>\n",
       "      <td>0</td>\n",
       "      <td>0</td>\n",
       "      <td>0</td>\n",
       "      <td>0</td>\n",
       "      <td>0</td>\n",
       "      <td>0</td>\n",
       "      <td>0</td>\n",
       "      <td>0</td>\n",
       "      <td>...</td>\n",
       "      <td>0</td>\n",
       "      <td>0</td>\n",
       "      <td>0</td>\n",
       "      <td>0</td>\n",
       "      <td>0</td>\n",
       "      <td>0</td>\n",
       "      <td>0</td>\n",
       "      <td>0</td>\n",
       "      <td>0</td>\n",
       "      <td>0</td>\n",
       "    </tr>\n",
       "    <tr>\n",
       "      <th>EQc5</th>\n",
       "      <td>0</td>\n",
       "      <td>0</td>\n",
       "      <td>1</td>\n",
       "      <td>1</td>\n",
       "      <td>0</td>\n",
       "      <td>1</td>\n",
       "      <td>0</td>\n",
       "      <td>1</td>\n",
       "      <td>0</td>\n",
       "      <td>1</td>\n",
       "      <td>...</td>\n",
       "      <td>0</td>\n",
       "      <td>0</td>\n",
       "      <td>1</td>\n",
       "      <td>1</td>\n",
       "      <td>1</td>\n",
       "      <td>0</td>\n",
       "      <td>1</td>\n",
       "      <td>1</td>\n",
       "      <td>0</td>\n",
       "      <td>0</td>\n",
       "    </tr>\n",
       "    <tr>\n",
       "      <th>EQc6.1</th>\n",
       "      <td>0</td>\n",
       "      <td>0</td>\n",
       "      <td>1</td>\n",
       "      <td>0</td>\n",
       "      <td>1</td>\n",
       "      <td>1</td>\n",
       "      <td>1</td>\n",
       "      <td>1</td>\n",
       "      <td>0</td>\n",
       "      <td>1</td>\n",
       "      <td>...</td>\n",
       "      <td>0</td>\n",
       "      <td>1</td>\n",
       "      <td>1</td>\n",
       "      <td>0</td>\n",
       "      <td>1</td>\n",
       "      <td>1</td>\n",
       "      <td>1</td>\n",
       "      <td>0</td>\n",
       "      <td>1</td>\n",
       "      <td>1</td>\n",
       "    </tr>\n",
       "    <tr>\n",
       "      <th>EQc6.2</th>\n",
       "      <td>0</td>\n",
       "      <td>1</td>\n",
       "      <td>0</td>\n",
       "      <td>0</td>\n",
       "      <td>1</td>\n",
       "      <td>1</td>\n",
       "      <td>0</td>\n",
       "      <td>0</td>\n",
       "      <td>0</td>\n",
       "      <td>0</td>\n",
       "      <td>...</td>\n",
       "      <td>0</td>\n",
       "      <td>0</td>\n",
       "      <td>1</td>\n",
       "      <td>0</td>\n",
       "      <td>1</td>\n",
       "      <td>1</td>\n",
       "      <td>0</td>\n",
       "      <td>0</td>\n",
       "      <td>1</td>\n",
       "      <td>1</td>\n",
       "    </tr>\n",
       "    <tr>\n",
       "      <th>EQc7.1</th>\n",
       "      <td>1</td>\n",
       "      <td>0</td>\n",
       "      <td>1</td>\n",
       "      <td>1</td>\n",
       "      <td>1</td>\n",
       "      <td>1</td>\n",
       "      <td>1</td>\n",
       "      <td>1</td>\n",
       "      <td>0</td>\n",
       "      <td>1</td>\n",
       "      <td>...</td>\n",
       "      <td>0</td>\n",
       "      <td>1</td>\n",
       "      <td>1</td>\n",
       "      <td>1</td>\n",
       "      <td>1</td>\n",
       "      <td>1</td>\n",
       "      <td>1</td>\n",
       "      <td>1</td>\n",
       "      <td>1</td>\n",
       "      <td>1</td>\n",
       "    </tr>\n",
       "    <tr>\n",
       "      <th>EQc7.2</th>\n",
       "      <td>1</td>\n",
       "      <td>0</td>\n",
       "      <td>1</td>\n",
       "      <td>1</td>\n",
       "      <td>0</td>\n",
       "      <td>1</td>\n",
       "      <td>1</td>\n",
       "      <td>1</td>\n",
       "      <td>0</td>\n",
       "      <td>1</td>\n",
       "      <td>...</td>\n",
       "      <td>0</td>\n",
       "      <td>1</td>\n",
       "      <td>1</td>\n",
       "      <td>0</td>\n",
       "      <td>1</td>\n",
       "      <td>1</td>\n",
       "      <td>1</td>\n",
       "      <td>1</td>\n",
       "      <td>1</td>\n",
       "      <td>1</td>\n",
       "    </tr>\n",
       "    <tr>\n",
       "      <th>EQc8.1</th>\n",
       "      <td>0</td>\n",
       "      <td>1</td>\n",
       "      <td>1</td>\n",
       "      <td>0</td>\n",
       "      <td>1</td>\n",
       "      <td>1</td>\n",
       "      <td>0</td>\n",
       "      <td>0</td>\n",
       "      <td>0</td>\n",
       "      <td>1</td>\n",
       "      <td>...</td>\n",
       "      <td>0</td>\n",
       "      <td>1</td>\n",
       "      <td>1</td>\n",
       "      <td>0</td>\n",
       "      <td>1</td>\n",
       "      <td>0</td>\n",
       "      <td>1</td>\n",
       "      <td>0</td>\n",
       "      <td>1</td>\n",
       "      <td>0</td>\n",
       "    </tr>\n",
       "    <tr>\n",
       "      <th>EQc8.2</th>\n",
       "      <td>0</td>\n",
       "      <td>0</td>\n",
       "      <td>1</td>\n",
       "      <td>0</td>\n",
       "      <td>1</td>\n",
       "      <td>1</td>\n",
       "      <td>0</td>\n",
       "      <td>0</td>\n",
       "      <td>0</td>\n",
       "      <td>1</td>\n",
       "      <td>...</td>\n",
       "      <td>0</td>\n",
       "      <td>1</td>\n",
       "      <td>1</td>\n",
       "      <td>0</td>\n",
       "      <td>0</td>\n",
       "      <td>0</td>\n",
       "      <td>1</td>\n",
       "      <td>0</td>\n",
       "      <td>0</td>\n",
       "      <td>0</td>\n",
       "    </tr>\n",
       "    <tr>\n",
       "      <th>IDc2</th>\n",
       "      <td>1</td>\n",
       "      <td>1</td>\n",
       "      <td>1</td>\n",
       "      <td>1</td>\n",
       "      <td>1</td>\n",
       "      <td>1</td>\n",
       "      <td>1</td>\n",
       "      <td>1</td>\n",
       "      <td>1</td>\n",
       "      <td>1</td>\n",
       "      <td>...</td>\n",
       "      <td>1</td>\n",
       "      <td>1</td>\n",
       "      <td>1</td>\n",
       "      <td>1</td>\n",
       "      <td>1</td>\n",
       "      <td>1</td>\n",
       "      <td>1</td>\n",
       "      <td>1</td>\n",
       "      <td>1</td>\n",
       "      <td>1</td>\n",
       "    </tr>\n",
       "    <tr>\n",
       "      <th>MRc1.2</th>\n",
       "      <td>0</td>\n",
       "      <td>0</td>\n",
       "      <td>0</td>\n",
       "      <td>0</td>\n",
       "      <td>1</td>\n",
       "      <td>0</td>\n",
       "      <td>0</td>\n",
       "      <td>0</td>\n",
       "      <td>0</td>\n",
       "      <td>0</td>\n",
       "      <td>...</td>\n",
       "      <td>0</td>\n",
       "      <td>0</td>\n",
       "      <td>0</td>\n",
       "      <td>0</td>\n",
       "      <td>0</td>\n",
       "      <td>0</td>\n",
       "      <td>0</td>\n",
       "      <td>0</td>\n",
       "      <td>0</td>\n",
       "      <td>0</td>\n",
       "    </tr>\n",
       "    <tr>\n",
       "      <th>MRc6</th>\n",
       "      <td>0</td>\n",
       "      <td>0</td>\n",
       "      <td>0</td>\n",
       "      <td>0</td>\n",
       "      <td>0</td>\n",
       "      <td>0</td>\n",
       "      <td>1</td>\n",
       "      <td>0</td>\n",
       "      <td>0</td>\n",
       "      <td>0</td>\n",
       "      <td>...</td>\n",
       "      <td>1</td>\n",
       "      <td>1</td>\n",
       "      <td>0</td>\n",
       "      <td>0</td>\n",
       "      <td>0</td>\n",
       "      <td>0</td>\n",
       "      <td>0</td>\n",
       "      <td>1</td>\n",
       "      <td>0</td>\n",
       "      <td>0</td>\n",
       "    </tr>\n",
       "    <tr>\n",
       "      <th>MRc7</th>\n",
       "      <td>0</td>\n",
       "      <td>0</td>\n",
       "      <td>0</td>\n",
       "      <td>0</td>\n",
       "      <td>0</td>\n",
       "      <td>0</td>\n",
       "      <td>1</td>\n",
       "      <td>0</td>\n",
       "      <td>0</td>\n",
       "      <td>0</td>\n",
       "      <td>...</td>\n",
       "      <td>0</td>\n",
       "      <td>0</td>\n",
       "      <td>0</td>\n",
       "      <td>0</td>\n",
       "      <td>0</td>\n",
       "      <td>0</td>\n",
       "      <td>0</td>\n",
       "      <td>0</td>\n",
       "      <td>0</td>\n",
       "      <td>0</td>\n",
       "    </tr>\n",
       "    <tr>\n",
       "      <th>SSc1</th>\n",
       "      <td>1</td>\n",
       "      <td>1</td>\n",
       "      <td>1</td>\n",
       "      <td>1</td>\n",
       "      <td>1</td>\n",
       "      <td>1</td>\n",
       "      <td>1</td>\n",
       "      <td>1</td>\n",
       "      <td>1</td>\n",
       "      <td>1</td>\n",
       "      <td>...</td>\n",
       "      <td>1</td>\n",
       "      <td>1</td>\n",
       "      <td>0</td>\n",
       "      <td>1</td>\n",
       "      <td>1</td>\n",
       "      <td>0</td>\n",
       "      <td>1</td>\n",
       "      <td>1</td>\n",
       "      <td>1</td>\n",
       "      <td>1</td>\n",
       "    </tr>\n",
       "    <tr>\n",
       "      <th>SSc2</th>\n",
       "      <td>0</td>\n",
       "      <td>5</td>\n",
       "      <td>5</td>\n",
       "      <td>0</td>\n",
       "      <td>1</td>\n",
       "      <td>5</td>\n",
       "      <td>5</td>\n",
       "      <td>5</td>\n",
       "      <td>0</td>\n",
       "      <td>5</td>\n",
       "      <td>...</td>\n",
       "      <td>5</td>\n",
       "      <td>5</td>\n",
       "      <td>0</td>\n",
       "      <td>5</td>\n",
       "      <td>0</td>\n",
       "      <td>0</td>\n",
       "      <td>5</td>\n",
       "      <td>0</td>\n",
       "      <td>0</td>\n",
       "      <td>5</td>\n",
       "    </tr>\n",
       "    <tr>\n",
       "      <th>SSc3</th>\n",
       "      <td>0</td>\n",
       "      <td>0</td>\n",
       "      <td>0</td>\n",
       "      <td>0</td>\n",
       "      <td>0</td>\n",
       "      <td>0</td>\n",
       "      <td>0</td>\n",
       "      <td>0</td>\n",
       "      <td>0</td>\n",
       "      <td>0</td>\n",
       "      <td>...</td>\n",
       "      <td>0</td>\n",
       "      <td>0</td>\n",
       "      <td>0</td>\n",
       "      <td>0</td>\n",
       "      <td>0</td>\n",
       "      <td>0</td>\n",
       "      <td>0</td>\n",
       "      <td>0</td>\n",
       "      <td>0</td>\n",
       "      <td>0</td>\n",
       "    </tr>\n",
       "    <tr>\n",
       "      <th>SSc4.1</th>\n",
       "      <td>6</td>\n",
       "      <td>6</td>\n",
       "      <td>6</td>\n",
       "      <td>6</td>\n",
       "      <td>1</td>\n",
       "      <td>6</td>\n",
       "      <td>6</td>\n",
       "      <td>6</td>\n",
       "      <td>6</td>\n",
       "      <td>6</td>\n",
       "      <td>...</td>\n",
       "      <td>6</td>\n",
       "      <td>6</td>\n",
       "      <td>6</td>\n",
       "      <td>6</td>\n",
       "      <td>6</td>\n",
       "      <td>6</td>\n",
       "      <td>6</td>\n",
       "      <td>6</td>\n",
       "      <td>6</td>\n",
       "      <td>6</td>\n",
       "    </tr>\n",
       "    <tr>\n",
       "      <th>SSc4.2</th>\n",
       "      <td>1</td>\n",
       "      <td>1</td>\n",
       "      <td>1</td>\n",
       "      <td>1</td>\n",
       "      <td>0</td>\n",
       "      <td>1</td>\n",
       "      <td>1</td>\n",
       "      <td>1</td>\n",
       "      <td>1</td>\n",
       "      <td>1</td>\n",
       "      <td>...</td>\n",
       "      <td>1</td>\n",
       "      <td>1</td>\n",
       "      <td>1</td>\n",
       "      <td>1</td>\n",
       "      <td>1</td>\n",
       "      <td>1</td>\n",
       "      <td>1</td>\n",
       "      <td>1</td>\n",
       "      <td>1</td>\n",
       "      <td>1</td>\n",
       "    </tr>\n",
       "    <tr>\n",
       "      <th>SSc4.3</th>\n",
       "      <td>3</td>\n",
       "      <td>3</td>\n",
       "      <td>3</td>\n",
       "      <td>3</td>\n",
       "      <td>0</td>\n",
       "      <td>3</td>\n",
       "      <td>3</td>\n",
       "      <td>3</td>\n",
       "      <td>3</td>\n",
       "      <td>3</td>\n",
       "      <td>...</td>\n",
       "      <td>3</td>\n",
       "      <td>3</td>\n",
       "      <td>3</td>\n",
       "      <td>3</td>\n",
       "      <td>3</td>\n",
       "      <td>3</td>\n",
       "      <td>3</td>\n",
       "      <td>3</td>\n",
       "      <td>3</td>\n",
       "      <td>3</td>\n",
       "    </tr>\n",
       "    <tr>\n",
       "      <th>SSc4.4</th>\n",
       "      <td>2</td>\n",
       "      <td>2</td>\n",
       "      <td>2</td>\n",
       "      <td>2</td>\n",
       "      <td>2</td>\n",
       "      <td>2</td>\n",
       "      <td>2</td>\n",
       "      <td>2</td>\n",
       "      <td>2</td>\n",
       "      <td>2</td>\n",
       "      <td>...</td>\n",
       "      <td>2</td>\n",
       "      <td>2</td>\n",
       "      <td>2</td>\n",
       "      <td>2</td>\n",
       "      <td>2</td>\n",
       "      <td>2</td>\n",
       "      <td>2</td>\n",
       "      <td>2</td>\n",
       "      <td>2</td>\n",
       "      <td>2</td>\n",
       "    </tr>\n",
       "    <tr>\n",
       "      <th>SSc5.1</th>\n",
       "      <td>0</td>\n",
       "      <td>0</td>\n",
       "      <td>1</td>\n",
       "      <td>0</td>\n",
       "      <td>1</td>\n",
       "      <td>0</td>\n",
       "      <td>0</td>\n",
       "      <td>0</td>\n",
       "      <td>0</td>\n",
       "      <td>0</td>\n",
       "      <td>...</td>\n",
       "      <td>0</td>\n",
       "      <td>0</td>\n",
       "      <td>0</td>\n",
       "      <td>0</td>\n",
       "      <td>0</td>\n",
       "      <td>0</td>\n",
       "      <td>1</td>\n",
       "      <td>0</td>\n",
       "      <td>0</td>\n",
       "      <td>0</td>\n",
       "    </tr>\n",
       "    <tr>\n",
       "      <th>SSc5.2</th>\n",
       "      <td>1</td>\n",
       "      <td>0</td>\n",
       "      <td>1</td>\n",
       "      <td>0</td>\n",
       "      <td>1</td>\n",
       "      <td>1</td>\n",
       "      <td>0</td>\n",
       "      <td>0</td>\n",
       "      <td>0</td>\n",
       "      <td>0</td>\n",
       "      <td>...</td>\n",
       "      <td>0</td>\n",
       "      <td>1</td>\n",
       "      <td>0</td>\n",
       "      <td>1</td>\n",
       "      <td>0</td>\n",
       "      <td>0</td>\n",
       "      <td>1</td>\n",
       "      <td>0</td>\n",
       "      <td>0</td>\n",
       "      <td>0</td>\n",
       "    </tr>\n",
       "    <tr>\n",
       "      <th>SSc6.1</th>\n",
       "      <td>1</td>\n",
       "      <td>0</td>\n",
       "      <td>1</td>\n",
       "      <td>1</td>\n",
       "      <td>1</td>\n",
       "      <td>1</td>\n",
       "      <td>0</td>\n",
       "      <td>0</td>\n",
       "      <td>0</td>\n",
       "      <td>1</td>\n",
       "      <td>...</td>\n",
       "      <td>0</td>\n",
       "      <td>0</td>\n",
       "      <td>1</td>\n",
       "      <td>1</td>\n",
       "      <td>0</td>\n",
       "      <td>0</td>\n",
       "      <td>1</td>\n",
       "      <td>1</td>\n",
       "      <td>0</td>\n",
       "      <td>0</td>\n",
       "    </tr>\n",
       "    <tr>\n",
       "      <th>SSc6.2</th>\n",
       "      <td>1</td>\n",
       "      <td>0</td>\n",
       "      <td>1</td>\n",
       "      <td>0</td>\n",
       "      <td>0</td>\n",
       "      <td>1</td>\n",
       "      <td>0</td>\n",
       "      <td>1</td>\n",
       "      <td>0</td>\n",
       "      <td>0</td>\n",
       "      <td>...</td>\n",
       "      <td>0</td>\n",
       "      <td>1</td>\n",
       "      <td>0</td>\n",
       "      <td>0</td>\n",
       "      <td>1</td>\n",
       "      <td>0</td>\n",
       "      <td>0</td>\n",
       "      <td>0</td>\n",
       "      <td>0</td>\n",
       "      <td>0</td>\n",
       "    </tr>\n",
       "    <tr>\n",
       "      <th>SSc7.1</th>\n",
       "      <td>1</td>\n",
       "      <td>0</td>\n",
       "      <td>1</td>\n",
       "      <td>1</td>\n",
       "      <td>0</td>\n",
       "      <td>1</td>\n",
       "      <td>1</td>\n",
       "      <td>1</td>\n",
       "      <td>1</td>\n",
       "      <td>1</td>\n",
       "      <td>...</td>\n",
       "      <td>1</td>\n",
       "      <td>0</td>\n",
       "      <td>1</td>\n",
       "      <td>0</td>\n",
       "      <td>1</td>\n",
       "      <td>0</td>\n",
       "      <td>0</td>\n",
       "      <td>1</td>\n",
       "      <td>1</td>\n",
       "      <td>1</td>\n",
       "    </tr>\n",
       "    <tr>\n",
       "      <th>SSc7.2</th>\n",
       "      <td>1</td>\n",
       "      <td>0</td>\n",
       "      <td>1</td>\n",
       "      <td>0</td>\n",
       "      <td>1</td>\n",
       "      <td>1</td>\n",
       "      <td>0</td>\n",
       "      <td>0</td>\n",
       "      <td>1</td>\n",
       "      <td>0</td>\n",
       "      <td>...</td>\n",
       "      <td>1</td>\n",
       "      <td>0</td>\n",
       "      <td>0</td>\n",
       "      <td>1</td>\n",
       "      <td>1</td>\n",
       "      <td>0</td>\n",
       "      <td>0</td>\n",
       "      <td>1</td>\n",
       "      <td>1</td>\n",
       "      <td>1</td>\n",
       "    </tr>\n",
       "    <tr>\n",
       "      <th>SSc8</th>\n",
       "      <td>0</td>\n",
       "      <td>1</td>\n",
       "      <td>1</td>\n",
       "      <td>0</td>\n",
       "      <td>0</td>\n",
       "      <td>1</td>\n",
       "      <td>0</td>\n",
       "      <td>0</td>\n",
       "      <td>0</td>\n",
       "      <td>1</td>\n",
       "      <td>...</td>\n",
       "      <td>0</td>\n",
       "      <td>1</td>\n",
       "      <td>0</td>\n",
       "      <td>0</td>\n",
       "      <td>1</td>\n",
       "      <td>0</td>\n",
       "      <td>0</td>\n",
       "      <td>0</td>\n",
       "      <td>1</td>\n",
       "      <td>0</td>\n",
       "    </tr>\n",
       "    <tr>\n",
       "      <th>WEc2</th>\n",
       "      <td>2</td>\n",
       "      <td>0</td>\n",
       "      <td>1</td>\n",
       "      <td>1</td>\n",
       "      <td>0</td>\n",
       "      <td>1</td>\n",
       "      <td>1</td>\n",
       "      <td>1</td>\n",
       "      <td>1</td>\n",
       "      <td>1</td>\n",
       "      <td>...</td>\n",
       "      <td>2</td>\n",
       "      <td>2</td>\n",
       "      <td>2</td>\n",
       "      <td>2</td>\n",
       "      <td>2</td>\n",
       "      <td>2</td>\n",
       "      <td>0</td>\n",
       "      <td>2</td>\n",
       "      <td>2</td>\n",
       "      <td>0</td>\n",
       "    </tr>\n",
       "  </tbody>\n",
       "</table>\n",
       "<p>38 rows × 30 columns</p>\n",
       "</div>"
      ],
      "text/plain": [
       "        55568  55980  56020  58487  60401  60677  62045  63739  66772  67513  \\\n",
       "EAc3        2      0      1      0      0      1      0      0      0      0   \n",
       "EAc4        2      2      2      2      2      2      2      2      2      2   \n",
       "EAc5        3      0      1      1      0      1      1      0      1      1   \n",
       "EAc6        0      0      2      0      0      0      0      0      0      0   \n",
       "EQc1        0      0      1      1      0      1      0      0      0      1   \n",
       "EQc2        1      1      1      1      0      1      0      1      1      1   \n",
       "EQc3.1      1      0      1      1      1      1      1      1      1      1   \n",
       "EQc3.2      1      0      1      1      0      1      0      0      1      1   \n",
       "EQc4.1      1      1      1      1      1      1      0      1      0      1   \n",
       "EQc4.2      1      1      1      1      1      1      1      1      1      1   \n",
       "EQc4.3      0      1      1      0      0      0      0      0      0      1   \n",
       "EQc4.4      0      0      0      0      0      0      0      0      0      0   \n",
       "EQc5        0      0      1      1      0      1      0      1      0      1   \n",
       "EQc6.1      0      0      1      0      1      1      1      1      0      1   \n",
       "EQc6.2      0      1      0      0      1      1      0      0      0      0   \n",
       "EQc7.1      1      0      1      1      1      1      1      1      0      1   \n",
       "EQc7.2      1      0      1      1      0      1      1      1      0      1   \n",
       "EQc8.1      0      1      1      0      1      1      0      0      0      1   \n",
       "EQc8.2      0      0      1      0      1      1      0      0      0      1   \n",
       "IDc2        1      1      1      1      1      1      1      1      1      1   \n",
       "MRc1.2      0      0      0      0      1      0      0      0      0      0   \n",
       "MRc6        0      0      0      0      0      0      1      0      0      0   \n",
       "MRc7        0      0      0      0      0      0      1      0      0      0   \n",
       "SSc1        1      1      1      1      1      1      1      1      1      1   \n",
       "SSc2        0      5      5      0      1      5      5      5      0      5   \n",
       "SSc3        0      0      0      0      0      0      0      0      0      0   \n",
       "SSc4.1      6      6      6      6      1      6      6      6      6      6   \n",
       "SSc4.2      1      1      1      1      0      1      1      1      1      1   \n",
       "SSc4.3      3      3      3      3      0      3      3      3      3      3   \n",
       "SSc4.4      2      2      2      2      2      2      2      2      2      2   \n",
       "SSc5.1      0      0      1      0      1      0      0      0      0      0   \n",
       "SSc5.2      1      0      1      0      1      1      0      0      0      0   \n",
       "SSc6.1      1      0      1      1      1      1      0      0      0      1   \n",
       "SSc6.2      1      0      1      0      0      1      0      1      0      0   \n",
       "SSc7.1      1      0      1      1      0      1      1      1      1      1   \n",
       "SSc7.2      1      0      1      0      1      1      0      0      1      0   \n",
       "SSc8        0      1      1      0      0      1      0      0      0      1   \n",
       "WEc2        2      0      1      1      0      1      1      1      1      1   \n",
       "\n",
       "        ...    76492  76654  77431  77803  78615  78751  79378  81863  82069  \\\n",
       "EAc3    ...        0      0      0      2      0      0      0      0      0   \n",
       "EAc4    ...        2      2      2      2      2      2      2      2      2   \n",
       "EAc5    ...        1      3      3      3      3      3      3      3      3   \n",
       "EAc6    ...        0      0      0      0      0      0      0      0      0   \n",
       "EQc1    ...        0      0      0      1      1      1      1      1      1   \n",
       "EQc2    ...        1      1      1      1      1      0      1      1      1   \n",
       "EQc3.1  ...        1      0      1      1      1      1      1      1      1   \n",
       "EQc3.2  ...        1      0      1      1      1      1      1      1      1   \n",
       "EQc4.1  ...        1      1      1      1      1      0      0      0      0   \n",
       "EQc4.2  ...        1      1      0      1      1      1      0      1      1   \n",
       "EQc4.3  ...        0      1      0      0      1      0      0      0      1   \n",
       "EQc4.4  ...        0      0      0      0      0      0      0      0      0   \n",
       "EQc5    ...        0      0      1      1      1      0      1      1      0   \n",
       "EQc6.1  ...        0      1      1      0      1      1      1      0      1   \n",
       "EQc6.2  ...        0      0      1      0      1      1      0      0      1   \n",
       "EQc7.1  ...        0      1      1      1      1      1      1      1      1   \n",
       "EQc7.2  ...        0      1      1      0      1      1      1      1      1   \n",
       "EQc8.1  ...        0      1      1      0      1      0      1      0      1   \n",
       "EQc8.2  ...        0      1      1      0      0      0      1      0      0   \n",
       "IDc2    ...        1      1      1      1      1      1      1      1      1   \n",
       "MRc1.2  ...        0      0      0      0      0      0      0      0      0   \n",
       "MRc6    ...        1      1      0      0      0      0      0      1      0   \n",
       "MRc7    ...        0      0      0      0      0      0      0      0      0   \n",
       "SSc1    ...        1      1      0      1      1      0      1      1      1   \n",
       "SSc2    ...        5      5      0      5      0      0      5      0      0   \n",
       "SSc3    ...        0      0      0      0      0      0      0      0      0   \n",
       "SSc4.1  ...        6      6      6      6      6      6      6      6      6   \n",
       "SSc4.2  ...        1      1      1      1      1      1      1      1      1   \n",
       "SSc4.3  ...        3      3      3      3      3      3      3      3      3   \n",
       "SSc4.4  ...        2      2      2      2      2      2      2      2      2   \n",
       "SSc5.1  ...        0      0      0      0      0      0      1      0      0   \n",
       "SSc5.2  ...        0      1      0      1      0      0      1      0      0   \n",
       "SSc6.1  ...        0      0      1      1      0      0      1      1      0   \n",
       "SSc6.2  ...        0      1      0      0      1      0      0      0      0   \n",
       "SSc7.1  ...        1      0      1      0      1      0      0      1      1   \n",
       "SSc7.2  ...        1      0      0      1      1      0      0      1      1   \n",
       "SSc8    ...        0      1      0      0      1      0      0      0      1   \n",
       "WEc2    ...        2      2      2      2      2      2      0      2      2   \n",
       "\n",
       "        94271  \n",
       "EAc3        0  \n",
       "EAc4        0  \n",
       "EAc5        0  \n",
       "EAc6        0  \n",
       "EQc1        0  \n",
       "EQc2        1  \n",
       "EQc3.1      1  \n",
       "EQc3.2      0  \n",
       "EQc4.1      0  \n",
       "EQc4.2      1  \n",
       "EQc4.3      0  \n",
       "EQc4.4      0  \n",
       "EQc5        0  \n",
       "EQc6.1      1  \n",
       "EQc6.2      1  \n",
       "EQc7.1      1  \n",
       "EQc7.2      1  \n",
       "EQc8.1      0  \n",
       "EQc8.2      0  \n",
       "IDc2        1  \n",
       "MRc1.2      0  \n",
       "MRc6        0  \n",
       "MRc7        0  \n",
       "SSc1        1  \n",
       "SSc2        5  \n",
       "SSc3        0  \n",
       "SSc4.1      6  \n",
       "SSc4.2      1  \n",
       "SSc4.3      3  \n",
       "SSc4.4      2  \n",
       "SSc5.1      0  \n",
       "SSc5.2      0  \n",
       "SSc6.1      0  \n",
       "SSc6.2      0  \n",
       "SSc7.1      1  \n",
       "SSc7.2      1  \n",
       "SSc8        0  \n",
       "WEc2        0  \n",
       "\n",
       "[38 rows x 30 columns]"
      ]
     },
     "execution_count": 36,
     "metadata": {},
     "output_type": "execute_result"
    }
   ],
   "source": [
    "turkey_credits.iloc[[2, 3, 4, 5, 6, 7, 8, 9, 10, 11, 12, 13, 14, 15, 16, 17, 18, 19, 20, 22, 24, \n",
    "                     29, 30, 31, 32, 33, 34, 35, 36, 37, 38, 39, 40, 41, 42, 43, 44, 46], :-6]"
   ]
  },
  {
   "cell_type": "markdown",
   "metadata": {},
   "source": [
    "### Chi Square Test (binary data)"
   ]
  },
  {
   "cell_type": "code",
   "execution_count": 37,
   "metadata": {
    "collapsed": false
   },
   "outputs": [],
   "source": [
    "def credit_chi(df1, df2):\n",
    "    first_list_total = []\n",
    "    first_list_index = []\n",
    "    for row in df1.iloc[[2, 3, 4, 5, 6, 7, 8, 9, 10, \n",
    "                         11, 12, 13, 14, 15, 16, 17, \n",
    "                         18, 19, 20, 22, 24, 29, 30, \n",
    "                         31, 32, 33, 34, 35, 36, 37, \n",
    "                         38, 39, 40, 41, 42, 43, 44, \n",
    "                         46], :-6].iterrows():\n",
    "        index1, total1 = row\n",
    "        first_list_total.append(total1.tolist())\n",
    "        first_list_index.append(index1)\n",
    "    second_list_total = []\n",
    "    second_list_index = []\n",
    "    for row in df2.iloc[[2, 3, 4, 5, 6, 7, 8, 9, 10, \n",
    "                         11, 12, 13, 14, 15, 16, 17, \n",
    "                         18, 19, 20, 22, 24, 29, 30, \n",
    "                         31, 32, 33, 34, 35, 36, 37, \n",
    "                         38, 39, 40, 41, 42, 43, 44, \n",
    "                         46], :-6].iterrows():\n",
    "        index2, total2 = row\n",
    "        second_list_total.append(total2.tolist())\n",
    "        second_list_index.append(index2)\n",
    "    first_total_count = []\n",
    "    for i in first_list_total:\n",
    "        count_yes = 0\n",
    "        count_no = 0\n",
    "        for a in i:\n",
    "            if int(a) > 0:\n",
    "                count_yes +=1\n",
    "            else: count_no +=1\n",
    "        first_total_count.append((count_yes, count_no))\n",
    "    second_total_count = []\n",
    "    for i in second_list_total:\n",
    "        count_yes = 0\n",
    "        count_no = 0\n",
    "        for a in i:\n",
    "            if int(a) > 0:\n",
    "                count_yes +=1\n",
    "            else: count_no +=1\n",
    "        second_total_count.append((count_yes, count_no))  \n",
    "    chi_list = list(zip(first_total_count, second_total_count))\n",
    "    count = 0\n",
    "    counter = 0\n",
    "    for i in chi_list:\n",
    "        try: \n",
    "            chi2, p, ddof, expected = chi2_contingency(i)\n",
    "            if p < 0.01:\n",
    "                msg = \"Test Statistic: {}\\np-value: {}\"\n",
    "                print(\"{}\".format(first_list_index[counter]))\n",
    "                print(msg.format( chi2, p))\n",
    "        except:\n",
    "            pass\n",
    "        counter +=1"
   ]
  },
  {
   "cell_type": "code",
   "execution_count": 38,
   "metadata": {
    "collapsed": false
   },
   "outputs": [
    {
     "name": "stdout",
     "output_type": "stream",
     "text": [
      "EAc6\n",
      "Test Statistic: 7.274795127353265\n",
      "p-value: 0.006992886843753955\n",
      "EQc1\n",
      "Test Statistic: 9.832687622455065\n",
      "p-value: 0.001714376671604285\n",
      "EQc2\n",
      "Test Statistic: 11.417417281149557\n",
      "p-value: 0.000727587689077776\n",
      "EQc3.2\n",
      "Test Statistic: 26.0285817400296\n",
      "p-value: 3.364001134902113e-07\n",
      "EQc7.1\n",
      "Test Statistic: 10.82945419145484\n",
      "p-value: 0.0009989808188233832\n",
      "EQc7.2\n",
      "Test Statistic: 12.905112871624501\n",
      "p-value: 0.00032768577260394944\n"
     ]
    }
   ],
   "source": [
    "credit_chi(brazil_credits, china_credits)"
   ]
  },
  {
   "cell_type": "code",
   "execution_count": 39,
   "metadata": {
    "collapsed": false
   },
   "outputs": [
    {
     "name": "stdout",
     "output_type": "stream",
     "text": [
      "EAc4\n",
      "Test Statistic: 12.699862637362635\n",
      "p-value: 0.00036568243678656475\n",
      "EQc2\n",
      "Test Statistic: 7.803277777777779\n",
      "p-value: 0.005215154696519386\n",
      "EQc3.2\n",
      "Test Statistic: 8.556225633528266\n",
      "p-value: 0.003443425938109135\n",
      "EQc5\n",
      "Test Statistic: 11.846888354700857\n",
      "p-value: 0.000577577757869295\n",
      "EQc6.1\n",
      "Test Statistic: 8.723734318996414\n",
      "p-value: 0.0031409403924595723\n",
      "EQc7.1\n",
      "Test Statistic: 13.017321428571424\n",
      "p-value: 0.0003086229428224596\n",
      "MRc7\n",
      "Test Statistic: 14.552482578397214\n",
      "p-value: 0.00013630893082228548\n"
     ]
    }
   ],
   "source": [
    "credit_chi(brazil_credits, turkey_credits)"
   ]
  },
  {
   "cell_type": "code",
   "execution_count": 40,
   "metadata": {
    "collapsed": false
   },
   "outputs": [
    {
     "name": "stdout",
     "output_type": "stream",
     "text": [
      "EQc4.3\n",
      "Test Statistic: 48.777252867080286\n",
      "p-value: 2.867462801639523e-12\n",
      "EQc4.4\n",
      "Test Statistic: 25.131600903280027\n",
      "p-value: 5.354812119286899e-07\n",
      "EQc5\n",
      "Test Statistic: 8.08555947940214\n",
      "p-value: 0.004461935414114691\n",
      "EQc6.1\n",
      "Test Statistic: 23.019226644233143\n",
      "p-value: 1.6038931793197784e-06\n",
      "EQc7.1\n",
      "Test Statistic: 17.820422004714857\n",
      "p-value: 2.4276362627429996e-05\n",
      "SSc4.1\n",
      "Test Statistic: 13.894012878211147\n",
      "p-value: 0.0001934136042273233\n",
      "SSc5.2\n",
      "Test Statistic: 11.122689644090523\n",
      "p-value: 0.0008527803347130125\n",
      "SSc7.1\n",
      "Test Statistic: 10.5551654915964\n",
      "p-value: 0.0011586383870284545\n",
      "WEc2\n",
      "Test Statistic: 133.61189515844873\n",
      "p-value: 6.643108946941762e-31\n"
     ]
    }
   ],
   "source": [
    "credit_chi(brazil_credits, usa_credits)"
   ]
  },
  {
   "cell_type": "code",
   "execution_count": 41,
   "metadata": {
    "collapsed": false
   },
   "outputs": [
    {
     "name": "stdout",
     "output_type": "stream",
     "text": [
      "EAc5\n",
      "Test Statistic: 7.339174613584796\n",
      "p-value: 0.00674678107156543\n",
      "EQc6.2\n",
      "Test Statistic: 9.521992724058208\n",
      "p-value: 0.00203024005994654\n"
     ]
    }
   ],
   "source": [
    "credit_chi(china_credits, turkey_credits)"
   ]
  },
  {
   "cell_type": "code",
   "execution_count": 42,
   "metadata": {
    "collapsed": false
   },
   "outputs": [
    {
     "name": "stdout",
     "output_type": "stream",
     "text": [
      "EAc3\n",
      "Test Statistic: 10.5988116052391\n",
      "p-value: 0.0011316037075125697\n",
      "EAc4\n",
      "Test Statistic: 14.43607717697474\n",
      "p-value: 0.0001449977873002621\n",
      "EAc6\n",
      "Test Statistic: 27.32581149402373\n",
      "p-value: 1.719013662680265e-07\n",
      "EQc1\n",
      "Test Statistic: 9.558029730831645\n",
      "p-value: 0.00199076666154216\n",
      "EQc2\n",
      "Test Statistic: 29.043734791928085\n",
      "p-value: 7.076258169104238e-08\n",
      "EQc3.2\n",
      "Test Statistic: 46.79475996670304\n",
      "p-value: 7.88238896884248e-12\n",
      "EQc4.3\n",
      "Test Statistic: 43.7957182680556\n",
      "p-value: 3.645015920486808e-11\n",
      "EQc4.4\n",
      "Test Statistic: 46.00619453262521\n",
      "p-value: 1.178796698740004e-11\n",
      "EQc6.2\n",
      "Test Statistic: 9.06572888511956\n",
      "p-value: 0.0026044469663259744\n",
      "EQc7.2\n",
      "Test Statistic: 10.394227579315134\n",
      "p-value: 0.0012640986848924706\n",
      "EQc8.1\n",
      "Test Statistic: 19.501843009523164\n",
      "p-value: 1.0050266756556902e-05\n",
      "SSc3\n",
      "Test Statistic: 9.921637029392711\n",
      "p-value: 0.0016334703195101223\n",
      "SSc4.1\n",
      "Test Statistic: 26.650762146128457\n",
      "p-value: 2.437546205299427e-07\n",
      "SSc4.2\n",
      "Test Statistic: 9.765294658806566\n",
      "p-value: 0.0017783701077291963\n",
      "SSc4.4\n",
      "Test Statistic: 16.69840853493441\n",
      "p-value: 4.381774135502284e-05\n",
      "SSc5.1\n",
      "Test Statistic: 26.5991412149075\n",
      "p-value: 2.5035501208516354e-07\n",
      "SSc5.2\n",
      "Test Statistic: 10.797791349161999\n",
      "p-value: 0.0010162126526239623\n",
      "SSc6.2\n",
      "Test Statistic: 12.980213968224524\n",
      "p-value: 0.0003147999906411268\n",
      "SSc7.1\n",
      "Test Statistic: 20.04660972235673\n",
      "p-value: 7.55773990077584e-06\n",
      "WEc2\n",
      "Test Statistic: 137.80897751981354\n",
      "p-value: 8.023536986549052e-32\n"
     ]
    }
   ],
   "source": [
    "credit_chi(china_credits, usa_credits)"
   ]
  },
  {
   "cell_type": "code",
   "execution_count": 43,
   "metadata": {
    "collapsed": false
   },
   "outputs": [
    {
     "name": "stdout",
     "output_type": "stream",
     "text": [
      "EAc4\n",
      "Test Statistic: 33.56979596638992\n",
      "p-value: 6.8752077332854744e-09\n",
      "EAc5\n",
      "Test Statistic: 11.91957487309645\n",
      "p-value: 0.0005554715563453505\n",
      "EAc6\n",
      "Test Statistic: 19.24233903848877\n",
      "p-value: 1.1513145040058881e-05\n",
      "EQc2\n",
      "Test Statistic: 17.13130376095985\n",
      "p-value: 3.488261162175123e-05\n",
      "EQc3.2\n",
      "Test Statistic: 7.878217782036674\n",
      "p-value: 0.005003376416805841\n",
      "EQc4.1\n",
      "Test Statistic: 17.36801967576455\n",
      "p-value: 3.0796443911129035e-05\n",
      "EQc4.3\n",
      "Test Statistic: 46.73403843801603\n",
      "p-value: 8.130446397441546e-12\n",
      "EQc4.4\n",
      "Test Statistic: 35.14329338693899\n",
      "p-value: 3.06314518668403e-09\n",
      "EQc8.1\n",
      "Test Statistic: 10.741257077313549\n",
      "p-value: 0.001047731378922466\n",
      "MRc6\n",
      "Test Statistic: 7.873552014702084\n",
      "p-value: 0.005016302201463108\n",
      "MRc7\n",
      "Test Statistic: 7.600666325143267\n",
      "p-value: 0.00583467338840666\n",
      "SSc4.1\n",
      "Test Statistic: 20.643137610476575\n",
      "p-value: 5.533516439891415e-06\n",
      "SSc4.2\n",
      "Test Statistic: 8.989917381018666\n",
      "p-value: 0.0027147327389648096\n",
      "SSc4.4\n",
      "Test Statistic: 7.167464260686402\n",
      "p-value: 0.007423763817124279\n",
      "SSc7.2\n",
      "Test Statistic: 7.306987845375239\n",
      "p-value: 0.006868696833493134\n",
      "WEc2\n",
      "Test Statistic: 128.0022436791699\n",
      "p-value: 1.1211615588746427e-29\n"
     ]
    }
   ],
   "source": [
    "credit_chi(turkey_credits, usa_credits)"
   ]
  },
  {
   "cell_type": "markdown",
   "metadata": {},
   "source": [
    "## Plotting Percent Achieved for Each Country"
   ]
  },
  {
   "cell_type": "code",
   "execution_count": 44,
   "metadata": {
    "collapsed": false
   },
   "outputs": [],
   "source": [
    "percent_achieved_df = turkey_credits['percent_achieved'].to_frame()\n",
    "percent_achieved_df.rename(columns={'percent_achieved': 'Turkey'}, inplace=True)\n",
    "percent_achieved_df = percent_achieved_df.join(china_credits['percent_achieved'].to_frame())\n",
    "percent_achieved_df.rename(columns={'percent_achieved': 'China'}, inplace=True)\n",
    "percent_achieved_df = percent_achieved_df.join(usa_credits['percent_achieved'].to_frame())\n",
    "percent_achieved_df.rename(columns={'percent_achieved': 'USA'}, inplace=True)\n",
    "percent_achieved_df = percent_achieved_df.join(brazil_credits['percent_achieved'].to_frame())\n",
    "percent_achieved_df.rename(columns={'percent_achieved': 'Brazil'}, inplace=True)"
   ]
  },
  {
   "cell_type": "code",
   "execution_count": 48,
   "metadata": {
    "collapsed": false,
    "scrolled": false
   },
   "outputs": [
    {
     "data": {
      "image/png": "[encoded data removed]",
      "text/plain": [
       "<matplotlib.figure.Figure at 0x1096d8748>"
      ]
     },
     "metadata": {},
     "output_type": "display_data"
    }
   ],
   "source": [
    "percent_achieved_df.iloc[:6,:].plot(kind='bar', figsize=(12,8));"
   ]
  },
  {
   "cell_type": "code",
   "execution_count": 316,
   "metadata": {
    "collapsed": false
   },
   "outputs": [
    {
     "data": {
      "image/png": "[encoded data removed]",
      "text/plain": [
       "<matplotlib.figure.Figure at 0x10eb59e48>"
      ]
     },
     "metadata": {},
     "output_type": "display_data"
    }
   ],
   "source": [
    "percent_achieved_df.iloc[6:21,:].plot(kind='bar', figsize=(12,8));"
   ]
  },
  {
   "cell_type": "code",
   "execution_count": 317,
   "metadata": {
    "collapsed": false
   },
   "outputs": [
    {
     "data": {
      "text/plain": [
       "<matplotlib.axes._subplots.AxesSubplot at 0x10e5df400>"
      ]
     },
     "execution_count": 317,
     "metadata": {},
     "output_type": "execute_result"
    },
    {
     "data": {
      "image/png": "[encoded data removed]",
      "text/plain": [
       "<matplotlib.figure.Figure at 0x10ed72fd0>"
      ]
     },
     "metadata": {},
     "output_type": "display_data"
    }
   ],
   "source": [
    "percent_achieved_df.iloc[21:23,:].plot(kind='bar', figsize=(12,8))"
   ]
  },
  {
   "cell_type": "code",
   "execution_count": 318,
   "metadata": {
    "collapsed": false
   },
   "outputs": [
    {
     "data": {
      "image/png": "[encoded data removed]",
      "text/plain": [
       "<matplotlib.figure.Figure at 0x10ed6d1d0>"
      ]
     },
     "metadata": {},
     "output_type": "display_data"
    }
   ],
   "source": [
    "percent_achieved_df.iloc[23:31,:].plot(kind='bar', figsize=(12,8));"
   ]
  },
  {
   "cell_type": "code",
   "execution_count": 319,
   "metadata": {
    "collapsed": false
   },
   "outputs": [
    {
     "data": {
      "image/png": "[encoded data removed]",
      "text/plain": [
       "<matplotlib.figure.Figure at 0x10ee51198>"
      ]
     },
     "metadata": {},
     "output_type": "display_data"
    }
   ],
   "source": [
    "percent_achieved_df.iloc[31:45,:].plot(kind='bar', figsize=(12,8));"
   ]
  },
  {
   "cell_type": "code",
   "execution_count": 320,
   "metadata": {
    "collapsed": false
   },
   "outputs": [
    {
     "data": {
      "image/png": "[encoded data removed]",
      "text/plain": [
       "<matplotlib.figure.Figure at 0x10eb8fac8>"
      ]
     },
     "metadata": {},
     "output_type": "display_data"
    }
   ],
   "source": [
    "percent_achieved_df.iloc[45:48,:].plot(kind='bar', figsize=(12,8), dpi=500);"
   ]
  },
  {
   "cell_type": "code",
   "execution_count": 321,
   "metadata": {
    "collapsed": false
   },
   "outputs": [
    {
     "data": {
      "image/png": "[encoded data removed]",
      "text/plain": [
       "<matplotlib.figure.Figure at 0x10e5df1d0>"
      ]
     },
     "metadata": {},
     "output_type": "display_data"
    }
   ],
   "source": [
    "percent_achieved_df.plot(kind='bar', figsize=(22,12));"
   ]
  },
  {
   "cell_type": "code",
   "execution_count": 42,
   "metadata": {
    "collapsed": false
   },
   "outputs": [
    {
     "data": {
      "text/plain": [
       "<matplotlib.axes._subplots.AxesSubplot at 0x109d2aba8>"
      ]
     },
     "execution_count": 42,
     "metadata": {},
     "output_type": "execute_result"
    },
    {
     "data": {
      "image/png": "[encoded data removed]",
      "text/plain": [
       "<matplotlib.figure.Figure at 0x109cea1d0>"
      ]
     },
     "metadata": {},
     "output_type": "display_data"
    }
   ],
   "source": [
    "turkey_credits['percent_achieved'].plot(kind='bar', figsize=(12,8))"
   ]
  },
  {
   "cell_type": "code",
   "execution_count": 44,
   "metadata": {
    "collapsed": false
   },
   "outputs": [
    {
     "data": {
      "text/plain": [
       "<matplotlib.axes._subplots.AxesSubplot at 0x10a620a58>"
      ]
     },
     "execution_count": 44,
     "metadata": {},
     "output_type": "execute_result"
    },
    {
     "data": {
      "image/png": "[encoded data removed]",
      "text/plain": [
       "<matplotlib.figure.Figure at 0x10a4b54a8>"
      ]
     },
     "metadata": {},
     "output_type": "display_data"
    }
   ],
   "source": [
    "china_credits['percent_achieved'].plot(kind='bar', figsize=(12,8))"
   ]
  },
  {
   "cell_type": "code",
   "execution_count": 45,
   "metadata": {
    "collapsed": false
   },
   "outputs": [
    {
     "data": {
      "text/plain": [
       "<matplotlib.axes._subplots.AxesSubplot at 0x10aa17358>"
      ]
     },
     "execution_count": 45,
     "metadata": {},
     "output_type": "execute_result"
    },
    {
     "data": {
      "image/png": "[encoded data removed]",
      "text/plain": [
       "<matplotlib.figure.Figure at 0x109a74668>"
      ]
     },
     "metadata": {},
     "output_type": "display_data"
    }
   ],
   "source": [
    "usa_credits['percent_achieved'].plot(kind='bar', figsize=(12,8))"
   ]
  },
  {
   "cell_type": "code",
   "execution_count": 46,
   "metadata": {
    "collapsed": false
   },
   "outputs": [
    {
     "data": {
      "text/plain": [
       "<matplotlib.axes._subplots.AxesSubplot at 0x10acc85f8>"
      ]
     },
     "execution_count": 46,
     "metadata": {},
     "output_type": "execute_result"
    },
    {
     "data": {
      "image/png": "[encoded data removed]",
      "text/plain": [
       "<matplotlib.figure.Figure at 0x10ab212e8>"
      ]
     },
     "metadata": {},
     "output_type": "display_data"
    }
   ],
   "source": [
    "brazil_credits['percent_achieved'].plot(kind='bar', figsize=(12,8))"
   ]
  },
  {
   "cell_type": "code",
   "execution_count": null,
   "metadata": {
    "collapsed": true
   },
   "outputs": [],
   "source": []
  }
 ],
 "metadata": {
  "kernelspec": {
   "display_name": "Python 3",
   "language": "python",
   "name": "python3"
  },
  "language_info": {
   "codemirror_mode": {
    "name": "ipython",
    "version": 3
   },
   "file_extension": ".py",
   "mimetype": "text/x-python",
   "name": "python",
   "nbconvert_exporter": "python",
   "pygments_lexer": "ipython3",
   "version": "3.4.3"
  }
 },
 "nbformat": 4,
 "nbformat_minor": 0
}
