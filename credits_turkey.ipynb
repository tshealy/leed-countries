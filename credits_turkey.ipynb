{
 "cells": [
  {
   "cell_type": "markdown",
   "metadata": {},
   "source": [
    "# See data_frame_credits_maker.py for script that recreates this ipython notebook. "
   ]
  },
  {
   "cell_type": "code",
   "execution_count": 1,
   "metadata": {
    "collapsed": true
   },
   "outputs": [],
   "source": [
    "import pandas as pd\n",
    "import sqlite3\n",
    "import ast\n",
    "import itertools\n",
    "import numpy as np\n",
    "from scipy import stats\n",
    "from scipy.stats import ttest_ind\n",
    "import matplotlib.pyplot as plt\n",
    "import seaborn\n",
    "%matplotlib inline"
   ]
  },
  {
   "cell_type": "code",
   "execution_count": 2,
   "metadata": {
    "collapsed": true
   },
   "outputs": [],
   "source": [
    "def get_buildings():\n",
    "    buildings_all = pd.read_csv(\"original_data/PublicLEEDProjectDirectory.csv\", skiprows=3, encoding=\"ISO-8859-1\")\n",
    "    buildings_all = buildings_all[buildings_all['Isconfidential'] == 'No']\n",
    "    buildings_2009 = buildings_all[buildings_all[\"LEEDSystemVersionDisplayName\"] == \"LEED-NC v2009\"]\n",
    "    return(buildings_2009)"
   ]
  },
  {
   "cell_type": "code",
   "execution_count": 29,
   "metadata": {
    "collapsed": true
   },
   "outputs": [],
   "source": [
    "def my_filter_2009(df, country_code):\n",
    "    countries = df.dropna(subset = ['PointsAchieved'])\n",
    "    countries['PointsAchieved'] = countries['PointsAchieved'].convert_objects(convert_numeric=True)\n",
    "    countries = countries[countries['PointsAchieved'] > 39]\n",
    "    countries = countries[countries['Country'] == country_code]\n",
    "    countires = countries[countries[\"OwnerTypes\"] == 'Corporate: Privately Held']\n",
    "    return(countries)"
   ]
  },
  {
   "cell_type": "code",
   "execution_count": 4,
   "metadata": {
    "collapsed": false
   },
   "outputs": [],
   "source": [
    "def read_table(sqlite_data):\n",
    "# Read sqlite query results into a pandas DataFrame\n",
    "    con = sqlite3.connect(sqlite_data)\n",
    "    credits = pd.read_sql_query(\"SELECT * from points_data\", con)\n",
    "    con.close()\n",
    "    return(credits)"
   ]
  },
  {
   "cell_type": "code",
   "execution_count": 5,
   "metadata": {
    "collapsed": false
   },
   "outputs": [],
   "source": [
    "def make_df(credits):\n",
    "    count = 0\n",
    "    x_df = pd.DataFrame()\n",
    "    for i in credits.iloc[:,0]:\n",
    "        x_df[i] = pd.Series({key :value[1] for i in ast.literal_eval(credits.iloc[count,1]) for key, value in i.items()})\n",
    "        count +=1\n",
    "    new_x = x_df.transpose()\n",
    "    return(new_x)"
   ]
  },
  {
   "cell_type": "code",
   "execution_count": 55,
   "metadata": {
    "collapsed": true
   },
   "outputs": [],
   "source": [
    "def make_merge(country, credits_df):\n",
    "#     country.merge(credits_df, how='inner', left_on='ID', left_index=False, right_index=True)\n",
    "#     country.set_index(['ID'])\n",
    "    merged = country.merge(credits_df, right_index=True, left_on=['ID'])                 \n",
    "#     merged = credits_df.join(country.set_index(['ID']), on = ['ID'], how = 'left')\n",
    "    return(merged)\n",
    "# df_train_csv.join(df_train_fly.set_index(['Date']), on = ['Date'], how = 'right', lsuffix='_x')"
   ]
  },
  {
   "cell_type": "code",
   "execution_count": 56,
   "metadata": {
    "collapsed": true
   },
   "outputs": [],
   "source": [
    "def making_it_happen(sqlite_data, country_code):\n",
    "    buildings_2009 = get_buildings()\n",
    "    country = my_filter_2009(buildings_2009, country_code)\n",
    "    credits = read_table(sqlite_data)\n",
    "    credits_df = make_df(credits)\n",
    "    final_df = make_merge(country, credits_df)\n",
    "    return(final_df)"
   ]
  },
  {
   "cell_type": "code",
   "execution_count": 57,
   "metadata": {
    "collapsed": false
   },
   "outputs": [
    {
     "name": "stderr",
     "output_type": "stream",
     "text": [
      "/Users/trippshealy/Gdrive/research/leed_countries/.direnv/python-3.4.3/lib/python3.4/site-packages/pandas/io/parsers.py:1170: DtypeWarning: Columns (9) have mixed types. Specify dtype option on import or set low_memory=False.\n",
      "  data = self._reader.read(nrows)\n",
      "/Users/trippshealy/Gdrive/research/leed_countries/.direnv/python-3.4.3/lib/python3.4/site-packages/ipykernel/__main__.py:3: SettingWithCopyWarning: \n",
      "A value is trying to be set on a copy of a slice from a DataFrame.\n",
      "Try using .loc[row_indexer,col_indexer] = value instead\n",
      "\n",
      "See the the caveats in the documentation: http://pandas.pydata.org/pandas-docs/stable/indexing.html#indexing-view-versus-copy\n",
      "  app.launch_new_instance()\n"
     ]
    }
   ],
   "source": [
    "turkey_df = making_it_happen(\"data/turkey_scraped.sqlite3\", 'TR')"
   ]
  },
  {
   "cell_type": "code",
   "execution_count": 71,
   "metadata": {
    "collapsed": false
   },
   "outputs": [
    {
     "name": "stdout",
     "output_type": "stream",
     "text": [
      "Index(['ID', 'Isconfidential', 'ProjectName', 'Street', 'City', 'State',\n",
      "       'Zipcode', 'Country', 'LEEDSystemVersionDisplayName', 'PointsAchieved',\n",
      "       'CertLevel', 'CertDate', 'IsCertified', 'OwnerTypes', 'GrossSqFoot',\n",
      "       'TotalPropArea', 'ProjectTypes', 'OwnerOrganization',\n",
      "       'RegistrationDate', 'EAc1', 'EAc2', 'EAc3', 'EAc4', 'EAc5', 'EAc6',\n",
      "       'EQc1', 'EQc2', 'EQc3.1', 'EQc3.2', 'EQc4.1', 'EQc4.2', 'EQc4.3',\n",
      "       'EQc4.4', 'EQc5', 'EQc6.1', 'EQc6.2', 'EQc7.1', 'EQc7.2', 'EQc8.1',\n",
      "       'EQc8.2', 'IDc1', 'IDc2', 'MRc1.1', 'MRc1.2', 'MRc2', 'MRc3', 'MRc4',\n",
      "       'MRc5', 'MRc6', 'MRc7', 'SSc1', 'SSc2', 'SSc3', 'SSc4.1', 'SSc4.2',\n",
      "       'SSc4.3', 'SSc4.4', 'SSc5.1', 'SSc5.2', 'SSc6.1', 'SSc6.2', 'SSc7.1',\n",
      "       'SSc7.2', 'SSc8', 'WEc1', 'WEc2', 'WEc3'],\n",
      "      dtype='object')\n"
     ]
    }
   ],
   "source": [
    "print(turkey_df.columns)"
   ]
  },
  {
   "cell_type": "code",
   "execution_count": null,
   "metadata": {
    "collapsed": true
   },
   "outputs": [],
   "source": []
  }
 ],
 "metadata": {
  "kernelspec": {
   "display_name": "Python 3",
   "language": "python",
   "name": "python3"
  },
  "language_info": {
   "codemirror_mode": {
    "name": "ipython",
    "version": 3
   },
   "file_extension": ".py",
   "mimetype": "text/x-python",
   "name": "python",
   "nbconvert_exporter": "python",
   "pygments_lexer": "ipython3",
   "version": "3.4.3"
  }
 },
 "nbformat": 4,
 "nbformat_minor": 0
}
