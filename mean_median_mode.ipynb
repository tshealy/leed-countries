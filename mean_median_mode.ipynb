{
 "cells": [
  {
   "cell_type": "code",
   "execution_count": 1,
   "metadata": {
    "collapsed": true
   },
   "outputs": [],
   "source": [
    "import pandas as pd\n",
    "import itertools\n",
    "import numpy as np\n",
    "from scipy import stats\n",
    "from scipy.stats import ttest_ind\n",
    "import matplotlib.pyplot as plt\n",
    "%matplotlib inline"
   ]
  },
  {
   "cell_type": "code",
   "execution_count": 2,
   "metadata": {
    "collapsed": false,
    "scrolled": true
   },
   "outputs": [
    {
     "name": "stderr",
     "output_type": "stream",
     "text": [
      "/Users/trippshealy/Gdrive/research/leed_countries/.direnv/python-3.4.3/lib/python3.4/site-packages/pandas/io/parsers.py:1170: DtypeWarning: Columns (9) have mixed types. Specify dtype option on import or set low_memory=False.\n",
      "  data = self._reader.read(nrows)\n"
     ]
    }
   ],
   "source": [
    "buildings_all = pd.read_csv(\"original_data/PublicLEEDProjectDirectory.csv\", skiprows=3, encoding=\"ISO-8859-1\")\n",
    "buildings_all = buildings_all[buildings_all['Isconfidential'] == 'No']"
   ]
  },
  {
   "cell_type": "code",
   "execution_count": 3,
   "metadata": {
    "collapsed": true
   },
   "outputs": [],
   "source": [
    "buildings_2009 = buildings_all[buildings_all[\"LEEDSystemVersionDisplayName\"] == \"LEED-NC v2009\"] \n",
    "buildings_v2_2 = buildings_all[buildings_all[\"LEEDSystemVersionDisplayName\"] == \"LEED-NC 2.2\"] \n",
    "buildings_v2_1 = buildings_all[buildings_all[\"LEEDSystemVersionDisplayName\"] == \"LEED-NC 2.1\"] "
   ]
  },
  {
   "cell_type": "code",
   "execution_count": 16,
   "metadata": {
    "collapsed": false
   },
   "outputs": [],
   "source": [
    "def my_filter_2009(df):\n",
    "    countries = df.dropna(subset = ['PointsAchieved'])\n",
    "    countries['PointsAchieved'] = countries['PointsAchieved'].convert_objects(convert_numeric=True)\n",
    "    countries = countries[countries['PointsAchieved'] > 39].groupby('Country').count()\n",
    "    country_list_20 = countries[countries['ID'] > 50].index\n",
    "    return(country_list_20)"
   ]
  },
  {
   "cell_type": "code",
   "execution_count": 5,
   "metadata": {
    "collapsed": true
   },
   "outputs": [],
   "source": [
    "def my_filter_v2(df):\n",
    "    countries = df.dropna(subset = ['PointsAchieved'])\n",
    "    countries['PointsAchieved'] = countries['PointsAchieved'].convert_objects(convert_numeric=True)\n",
    "    countries = countries[countries['PointsAchieved'] > 25].groupby('Country').count()\n",
    "    country_list_20 = countries[countries['ID'] > 20].index\n",
    "    return(country_list_20)"
   ]
  },
  {
   "cell_type": "code",
   "execution_count": 6,
   "metadata": {
    "collapsed": false
   },
   "outputs": [],
   "source": [
    "def m3(scores):\n",
    "    scores = scores.astype(float)\n",
    "    my_scores = []\n",
    "    for i in scores:\n",
    "        if i > 39:\n",
    "            my_scores.append(i)\n",
    "    removed = len(scores) - len(my_scores)\n",
    "    my_mean = np.mean(my_scores)\n",
    "    my_median = np.median(my_scores)\n",
    "    my_mode = stats.mode(my_scores)\n",
    "    largest = max(my_scores)\n",
    "    smallest = min(my_scores)\n",
    "    return(\"Buildings Included: {},\\n removed: {},\\n mean: {},\\n median: {},\\n mode: {},\\n largest: {},\\n lowest: {}\".format(len(my_scores), removed, my_mean, my_median, my_mode, largest, smallest))"
   ]
  },
  {
   "cell_type": "code",
   "execution_count": 7,
   "metadata": {
    "collapsed": true
   },
   "outputs": [],
   "source": [
    "def analysis_list_2009(df):\n",
    "    country_list = my_filter_2009(df)\n",
    "    for i in country_list:\n",
    "        country = df[df['Country'] == i]\n",
    "        mmm = m3(country['PointsAchieved'])\n",
    "        print(\"{}\\n {}\".format(i, mmm))"
   ]
  },
  {
   "cell_type": "code",
   "execution_count": 8,
   "metadata": {
    "collapsed": true
   },
   "outputs": [],
   "source": [
    "def analysis_list_v2(df):\n",
    "    country_list = my_filter_v2(df)\n",
    "    for i in country_list:\n",
    "        country = df[df['Country'] == i]\n",
    "        mmm = m3(country.PointsAchieved)\n",
    "        print(\"{}\\n {}\".format(i, mmm))"
   ]
  },
  {
   "cell_type": "code",
   "execution_count": 9,
   "metadata": {
    "collapsed": false
   },
   "outputs": [
    {
     "name": "stdout",
     "output_type": "stream",
     "text": [
      "AE\n",
      " Buildings Included: 22,\n",
      " removed: 67,\n",
      " mean: 56.31818181818182,\n",
      " median: 58.5,\n",
      " mode: ModeResult(mode=array([ 43.]), count=array([2])),\n",
      " largest: 80.0,\n",
      " lowest: 42.0\n",
      "BR\n",
      " Buildings Included: 51,\n",
      " removed: 121,\n",
      " mean: 54.745098039215684,\n",
      " median: 53.0,\n",
      " mode: ModeResult(mode=array([ 51.]), count=array([6])),\n",
      " largest: 81.0,\n",
      " lowest: 41.0\n",
      "CL\n",
      " Buildings Included: 41,\n",
      " removed: 67,\n",
      " mean: 55.46341463414634,\n",
      " median: 55.0,\n",
      " mode: ModeResult(mode=array([ 66.]), count=array([4])),\n",
      " largest: 81.0,\n",
      " lowest: 40.0\n",
      "CN\n",
      " Buildings Included: 140,\n",
      " removed: 270,\n",
      " mean: 59.15714285714286,\n",
      " median: 60.0,\n",
      " mode: ModeResult(mode=array([ 64.]), count=array([11])),\n",
      " largest: 87.0,\n",
      " lowest: 40.0\n",
      "DE\n",
      " Buildings Included: 40,\n",
      " removed: 32,\n",
      " mean: 62.3,\n",
      " median: 63.0,\n",
      " mode: ModeResult(mode=array([ 57.]), count=array([3])),\n",
      " largest: 85.0,\n",
      " lowest: 42.0\n",
      "ES\n",
      " Buildings Included: 33,\n",
      " removed: 34,\n",
      " mean: 63.24242424242424,\n",
      " median: 62.0,\n",
      " mode: ModeResult(mode=array([ 61.]), count=array([3])),\n",
      " largest: 98.0,\n",
      " lowest: 41.0\n",
      "KR\n",
      " Buildings Included: 24,\n",
      " removed: 71,\n",
      " mean: 61.708333333333336,\n",
      " median: 60.5,\n",
      " mode: ModeResult(mode=array([ 51.]), count=array([3])),\n",
      " largest: 95.0,\n",
      " lowest: 40.0\n",
      "MX\n",
      " Buildings Included: 32,\n",
      " removed: 107,\n",
      " mean: 62.46875,\n",
      " median: 60.0,\n",
      " mode: ModeResult(mode=array([ 60.]), count=array([4])),\n",
      " largest: 94.0,\n",
      " lowest: 43.0\n",
      "SE\n",
      " Buildings Included: 24,\n",
      " removed: 11,\n",
      " mean: 62.5,\n",
      " median: 62.0,\n",
      " mode: ModeResult(mode=array([ 61.]), count=array([5])),\n",
      " largest: 95.0,\n",
      " lowest: 43.0\n",
      "TR\n",
      " Buildings Included: 59,\n",
      " removed: 142,\n",
      " mean: 62.0,\n",
      " median: 62.0,\n",
      " mode: ModeResult(mode=array([ 60.]), count=array([6])),\n",
      " largest: 92.0,\n",
      " lowest: 42.0\n",
      "US\n",
      " Buildings Included: 3166,\n",
      " removed: 6050,\n",
      " mean: 55.10328490208465,\n",
      " median: 53.0,\n",
      " mode: ModeResult(mode=array([ 50.]), count=array([224])),\n",
      " largest: 97.0,\n",
      " lowest: 40.0\n"
     ]
    },
    {
     "name": "stderr",
     "output_type": "stream",
     "text": [
      "/Users/trippshealy/Gdrive/research/leed_countries/.direnv/python-3.4.3/lib/python3.4/site-packages/ipykernel/__main__.py:3: SettingWithCopyWarning: \n",
      "A value is trying to be set on a copy of a slice from a DataFrame.\n",
      "Try using .loc[row_indexer,col_indexer] = value instead\n",
      "\n",
      "See the the caveats in the documentation: http://pandas.pydata.org/pandas-docs/stable/indexing.html#indexing-view-versus-copy\n",
      "  app.launch_new_instance()\n"
     ]
    }
   ],
   "source": [
    "analysis_list_2009(buildings_2009)"
   ]
  },
  {
   "cell_type": "code",
   "execution_count": 17,
   "metadata": {
    "collapsed": false
   },
   "outputs": [
    {
     "name": "stderr",
     "output_type": "stream",
     "text": [
      "/Users/trippshealy/Gdrive/research/leed_countries/.direnv/python-3.4.3/lib/python3.4/site-packages/ipykernel/__main__.py:3: SettingWithCopyWarning: \n",
      "A value is trying to be set on a copy of a slice from a DataFrame.\n",
      "Try using .loc[row_indexer,col_indexer] = value instead\n",
      "\n",
      "See the the caveats in the documentation: http://pandas.pydata.org/pandas-docs/stable/indexing.html#indexing-view-versus-copy\n",
      "  app.launch_new_instance()\n"
     ]
    },
    {
     "data": {
      "text/plain": [
       "Index(['BR', 'CL', 'CN', 'TR', 'US'], dtype='object', name='Country')"
      ]
     },
     "execution_count": 17,
     "metadata": {},
     "output_type": "execute_result"
    }
   ],
   "source": [
    "my_filter_2009(buildings_2009)"
   ]
  },
  {
   "cell_type": "code",
   "execution_count": 11,
   "metadata": {
    "collapsed": false
   },
   "outputs": [
    {
     "name": "stdout",
     "output_type": "stream",
     "text": [
      "AE\n",
      " Buildings Included: 22,\n",
      " removed: 371,\n",
      " mean: 42.77272727272727,\n",
      " median: 41.0,\n",
      " mode: ModeResult(mode=array([ 40.]), count=array([7])),\n",
      " largest: 53.0,\n",
      " lowest: 40.0\n",
      "CN\n",
      " Buildings Included: 33,\n",
      " removed: 55,\n",
      " mean: 45.15151515151515,\n",
      " median: 43.0,\n",
      " mode: ModeResult(mode=array([ 42.]), count=array([6])),\n",
      " largest: 61.0,\n",
      " lowest: 40.0\n",
      "US\n",
      " Buildings Included: 2148,\n",
      " removed: 7112,\n",
      " mean: 44.03258845437617,\n",
      " median: 42.0,\n",
      " mode: ModeResult(mode=array([ 40.]), count=array([518])),\n",
      " largest: 66.0,\n",
      " lowest: 40.0\n"
     ]
    },
    {
     "name": "stderr",
     "output_type": "stream",
     "text": [
      "/Users/trippshealy/Gdrive/research/leed_countries/.direnv/python-3.4.3/lib/python3.4/site-packages/ipykernel/__main__.py:3: SettingWithCopyWarning: \n",
      "A value is trying to be set on a copy of a slice from a DataFrame.\n",
      "Try using .loc[row_indexer,col_indexer] = value instead\n",
      "\n",
      "See the the caveats in the documentation: http://pandas.pydata.org/pandas-docs/stable/indexing.html#indexing-view-versus-copy\n",
      "  app.launch_new_instance()\n"
     ]
    }
   ],
   "source": [
    "analysis_list_v2(buildings_v2_2)"
   ]
  },
  {
   "cell_type": "code",
   "execution_count": 13,
   "metadata": {
    "collapsed": false
   },
   "outputs": [
    {
     "name": "stderr",
     "output_type": "stream",
     "text": [
      "/Users/trippshealy/Gdrive/research/leed_countries/.direnv/python-3.4.3/lib/python3.4/site-packages/ipykernel/__main__.py:3: SettingWithCopyWarning: \n",
      "A value is trying to be set on a copy of a slice from a DataFrame.\n",
      "Try using .loc[row_indexer,col_indexer] = value instead\n",
      "\n",
      "See the the caveats in the documentation: http://pandas.pydata.org/pandas-docs/stable/indexing.html#indexing-view-versus-copy\n",
      "  app.launch_new_instance()\n"
     ]
    },
    {
     "data": {
      "text/plain": [
       "Index(['AE', 'CN', 'US'], dtype='object', name='Country')"
      ]
     },
     "execution_count": 13,
     "metadata": {},
     "output_type": "execute_result"
    }
   ],
   "source": [
    "my_filter_v2(buildings_v2_2)"
   ]
  },
  {
   "cell_type": "code",
   "execution_count": 12,
   "metadata": {
    "collapsed": false
   },
   "outputs": [],
   "source": [
    "# none for v21 analysis_list_v2(buildings_v2_1)"
   ]
  },
  {
   "cell_type": "code",
   "execution_count": null,
   "metadata": {
    "collapsed": true
   },
   "outputs": [],
   "source": []
  }
 ],
 "metadata": {
  "kernelspec": {
   "display_name": "Python 3",
   "language": "python",
   "name": "python3"
  },
  "language_info": {
   "codemirror_mode": {
    "name": "ipython",
    "version": 3
   },
   "file_extension": ".py",
   "mimetype": "text/x-python",
   "name": "python",
   "nbconvert_exporter": "python",
   "pygments_lexer": "ipython3",
   "version": "3.4.3"
  }
 },
 "nbformat": 4,
 "nbformat_minor": 0
}
