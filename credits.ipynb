{
 "cells": [
  {
   "cell_type": "code",
   "execution_count": 1,
   "metadata": {
    "collapsed": true
   },
   "outputs": [],
   "source": [
    "import pandas as pd\n",
    "import sqlite3\n",
    "import itertools\n",
    "import numpy as np\n",
    "from scipy import stats\n",
    "from scipy.stats import ttest_ind\n",
    "import matplotlib.pyplot as plt\n",
    "%matplotlib inline"
   ]
  },
  {
   "cell_type": "code",
   "execution_count": 4,
   "metadata": {
    "collapsed": true
   },
   "outputs": [],
   "source": [
    "scores_2009 = pd.read_pickle('original_data/scores_2009.pkl')"
   ]
  },
  {
   "cell_type": "code",
   "execution_count": 18,
   "metadata": {
    "collapsed": false
   },
   "outputs": [
    {
     "data": {
      "text/plain": [
       "0    1000000143\n",
       "1    1000000174\n",
       "2    1000000194\n",
       "3    1000000199\n",
       "4    1000000222\n",
       "Name: project_id, dtype: int64"
      ]
     },
     "execution_count": 18,
     "metadata": {},
     "output_type": "execute_result"
    }
   ],
   "source": [
    "scores_2009['project_id'].head()"
   ]
  },
  {
   "cell_type": "code",
   "execution_count": 7,
   "metadata": {
    "collapsed": false
   },
   "outputs": [
    {
     "name": "stderr",
     "output_type": "stream",
     "text": [
      "/Users/trippshealy/Gdrive/research/leed_countries/.direnv/python-3.4.3/lib/python3.4/site-packages/pandas/io/parsers.py:1170: DtypeWarning: Columns (9) have mixed types. Specify dtype option on import or set low_memory=False.\n",
      "  data = self._reader.read(nrows)\n"
     ]
    }
   ],
   "source": [
    "buildings_all = pd.read_csv(\"original_data/PublicLEEDProjectDirectory.csv\", skiprows=3, encoding=\"ISO-8859-1\")\n",
    "buildings_all = buildings_all[buildings_all['Isconfidential'] == 'No']"
   ]
  },
  {
   "cell_type": "code",
   "execution_count": 8,
   "metadata": {
    "collapsed": false
   },
   "outputs": [
    {
     "data": {
      "text/html": [
       "<div>\n",
       "<table border=\"1\" class=\"dataframe\">\n",
       "  <thead>\n",
       "    <tr style=\"text-align: right;\">\n",
       "      <th></th>\n",
       "      <th>ID</th>\n",
       "      <th>Isconfidential</th>\n",
       "      <th>ProjectName</th>\n",
       "      <th>Street</th>\n",
       "      <th>City</th>\n",
       "      <th>State</th>\n",
       "      <th>Zipcode</th>\n",
       "      <th>Country</th>\n",
       "      <th>LEEDSystemVersionDisplayName</th>\n",
       "      <th>PointsAchieved</th>\n",
       "      <th>CertLevel</th>\n",
       "      <th>CertDate</th>\n",
       "      <th>IsCertified</th>\n",
       "      <th>OwnerTypes</th>\n",
       "      <th>GrossSqFoot</th>\n",
       "      <th>TotalPropArea</th>\n",
       "      <th>ProjectTypes</th>\n",
       "      <th>OwnerOrganization</th>\n",
       "      <th>RegistrationDate</th>\n",
       "    </tr>\n",
       "  </thead>\n",
       "  <tbody>\n",
       "    <tr>\n",
       "      <th>98097</th>\n",
       "      <td>1000058305</td>\n",
       "      <td>No</td>\n",
       "      <td>143 Fulton Street Hotel</td>\n",
       "      <td>26 Ann Street</td>\n",
       "      <td>New York</td>\n",
       "      <td>NY</td>\n",
       "      <td>10038</td>\n",
       "      <td>US</td>\n",
       "      <td>LEED-NC v2009</td>\n",
       "      <td>NaN</td>\n",
       "      <td>NaN</td>\n",
       "      <td>NaN</td>\n",
       "      <td>No</td>\n",
       "      <td>Corporate: Privately Held</td>\n",
       "      <td>94000</td>\n",
       "      <td>NaN</td>\n",
       "      <td>Lodging: Hotel/Motel/Resort, Full Service</td>\n",
       "      <td>Tribeca Associates</td>\n",
       "      <td>6/2/15 0:00</td>\n",
       "    </tr>\n",
       "    <tr>\n",
       "      <th>98100</th>\n",
       "      <td>1000058310</td>\n",
       "      <td>No</td>\n",
       "      <td>180 Montgomery - Recertification</td>\n",
       "      <td>180 Montgomery Street</td>\n",
       "      <td>San Francisco</td>\n",
       "      <td>CA</td>\n",
       "      <td>94104</td>\n",
       "      <td>US</td>\n",
       "      <td>LEED-EB:OM v2009</td>\n",
       "      <td>NaN</td>\n",
       "      <td>NaN</td>\n",
       "      <td>NaN</td>\n",
       "      <td>No</td>\n",
       "      <td>Investor: Equity Fund</td>\n",
       "      <td>329913</td>\n",
       "      <td>NaN</td>\n",
       "      <td>Office: Administrative/Professional</td>\n",
       "      <td>CBRE GI</td>\n",
       "      <td>6/2/15 0:00</td>\n",
       "    </tr>\n",
       "    <tr>\n",
       "      <th>98101</th>\n",
       "      <td>1000058311</td>\n",
       "      <td>No</td>\n",
       "      <td>FAS MCZ HEB 5th Floor Office Suite</td>\n",
       "      <td>26 Oxford Street</td>\n",
       "      <td>Cambridge</td>\n",
       "      <td>MA</td>\n",
       "      <td>2138</td>\n",
       "      <td>US</td>\n",
       "      <td>LEED-CI v2009</td>\n",
       "      <td>NaN</td>\n",
       "      <td>NaN</td>\n",
       "      <td>NaN</td>\n",
       "      <td>No</td>\n",
       "      <td>Educational: University, Private</td>\n",
       "      <td>10750</td>\n",
       "      <td>NaN</td>\n",
       "      <td>Core Learning Space: College/University</td>\n",
       "      <td>Harvard University</td>\n",
       "      <td>6/2/15 0:00</td>\n",
       "    </tr>\n",
       "    <tr>\n",
       "      <th>98103</th>\n",
       "      <td>1000058313</td>\n",
       "      <td>No</td>\n",
       "      <td>Young Woman's College Preparatory Academ</td>\n",
       "      <td>1906 Cleburne Street</td>\n",
       "      <td>Houston</td>\n",
       "      <td>TX</td>\n",
       "      <td>77004</td>\n",
       "      <td>US</td>\n",
       "      <td>LEED FOR SCHOOLS v2009</td>\n",
       "      <td>NaN</td>\n",
       "      <td>NaN</td>\n",
       "      <td>NaN</td>\n",
       "      <td>No</td>\n",
       "      <td>Educational: K-12 School, Public</td>\n",
       "      <td>50000</td>\n",
       "      <td>NaN</td>\n",
       "      <td>Core Learning Space: K-12 High School</td>\n",
       "      <td>Houston Independent School District</td>\n",
       "      <td>6/2/15 0:00</td>\n",
       "    </tr>\n",
       "    <tr>\n",
       "      <th>98104</th>\n",
       "      <td>1000058318</td>\n",
       "      <td>No</td>\n",
       "      <td>Nike Factory Store: Crossiron Mills</td>\n",
       "      <td>261055 CROSSIRON BLVD. SP. #664</td>\n",
       "      <td>ROCKY VIEW</td>\n",
       "      <td>AB</td>\n",
       "      <td>T4A 0G3</td>\n",
       "      <td>CA</td>\n",
       "      <td>LEED-CI Retail v2009</td>\n",
       "      <td>NaN</td>\n",
       "      <td>NaN</td>\n",
       "      <td>NaN</td>\n",
       "      <td>No</td>\n",
       "      <td>Corporate: Publicly Traded</td>\n",
       "      <td>9652</td>\n",
       "      <td>NaN</td>\n",
       "      <td>Retail: Other Retail</td>\n",
       "      <td>Nike Inc.</td>\n",
       "      <td>6/2/15 0:00</td>\n",
       "    </tr>\n",
       "  </tbody>\n",
       "</table>\n",
       "</div>"
      ],
      "text/plain": [
       "               ID Isconfidential                               ProjectName  \\\n",
       "98097  1000058305             No                   143 Fulton Street Hotel   \n",
       "98100  1000058310             No          180 Montgomery - Recertification   \n",
       "98101  1000058311             No        FAS MCZ HEB 5th Floor Office Suite   \n",
       "98103  1000058313             No  Young Woman's College Preparatory Academ   \n",
       "98104  1000058318             No       Nike Factory Store: Crossiron Mills   \n",
       "\n",
       "                                Street           City State  Zipcode Country  \\\n",
       "98097                    26 Ann Street       New York    NY    10038      US   \n",
       "98100            180 Montgomery Street  San Francisco    CA    94104      US   \n",
       "98101                 26 Oxford Street      Cambridge    MA     2138      US   \n",
       "98103             1906 Cleburne Street        Houston    TX    77004      US   \n",
       "98104  261055 CROSSIRON BLVD. SP. #664     ROCKY VIEW    AB  T4A 0G3      CA   \n",
       "\n",
       "      LEEDSystemVersionDisplayName PointsAchieved CertLevel CertDate  \\\n",
       "98097                LEED-NC v2009            NaN       NaN      NaN   \n",
       "98100             LEED-EB:OM v2009            NaN       NaN      NaN   \n",
       "98101                LEED-CI v2009            NaN       NaN      NaN   \n",
       "98103       LEED FOR SCHOOLS v2009            NaN       NaN      NaN   \n",
       "98104         LEED-CI Retail v2009            NaN       NaN      NaN   \n",
       "\n",
       "      IsCertified                        OwnerTypes  GrossSqFoot  \\\n",
       "98097          No         Corporate: Privately Held        94000   \n",
       "98100          No             Investor: Equity Fund       329913   \n",
       "98101          No  Educational: University, Private        10750   \n",
       "98103          No  Educational: K-12 School, Public        50000   \n",
       "98104          No        Corporate: Publicly Traded         9652   \n",
       "\n",
       "       TotalPropArea                               ProjectTypes  \\\n",
       "98097            NaN  Lodging: Hotel/Motel/Resort, Full Service   \n",
       "98100            NaN        Office: Administrative/Professional   \n",
       "98101            NaN    Core Learning Space: College/University   \n",
       "98103            NaN      Core Learning Space: K-12 High School   \n",
       "98104            NaN                       Retail: Other Retail   \n",
       "\n",
       "                         OwnerOrganization RegistrationDate  \n",
       "98097                   Tribeca Associates      6/2/15 0:00  \n",
       "98100                              CBRE GI      6/2/15 0:00  \n",
       "98101                   Harvard University      6/2/15 0:00  \n",
       "98103  Houston Independent School District      6/2/15 0:00  \n",
       "98104                            Nike Inc.      6/2/15 0:00  "
      ]
     },
     "execution_count": 8,
     "metadata": {},
     "output_type": "execute_result"
    }
   ],
   "source": [
    "buildings_all.tail()"
   ]
  },
  {
   "cell_type": "code",
   "execution_count": 19,
   "metadata": {
    "collapsed": false
   },
   "outputs": [],
   "source": [
    "merged_2009 = pd.merge(scores_2009, buildings_all, left_on='project_id', right_on='ID')"
   ]
  },
  {
   "cell_type": "code",
   "execution_count": 26,
   "metadata": {
    "collapsed": false
   },
   "outputs": [
    {
     "data": {
      "text/plain": [
       "Index(['extra2', 'extra3', 'extra4', 'project_id', 'eac1_possible',\n",
       "       'eac2_possible', 'eac3_possible', 'eac4_possible', 'eac5_possible',\n",
       "       'eac6_possible', 'eqc1_possible', 'eqc2_possible', 'eqc3_1_possible',\n",
       "       'eqc3_2_possible', 'eqc4_1_possible', 'eqc4_2_possible',\n",
       "       'eqc4_3_possible', 'eqc4_4_possible', 'eqc5_possible',\n",
       "       'eqc6_1_possible', 'eqc6_2_possible', 'eqc7_1_possible',\n",
       "       'eqc7_2_possible', 'eqc8_1_possible', 'eqc8_2_possible',\n",
       "       'extra1_possible', 'extra2_possible', 'extra3_possible',\n",
       "       'extra4_possible', 'idc1_possible'],\n",
       "      dtype='object')"
      ]
     },
     "execution_count": 26,
     "metadata": {},
     "output_type": "execute_result"
    }
   ],
   "source": [
    "merged_2009.columns[50:80]"
   ]
  },
  {
   "cell_type": "code",
   "execution_count": 27,
   "metadata": {
    "collapsed": false
   },
   "outputs": [
    {
     "data": {
      "text/plain": [
       "Country\n",
       "BR       5\n",
       "GB       1\n",
       "IT       3\n",
       "US    2492\n",
       "Name: project_id, dtype: int64"
      ]
     },
     "execution_count": 27,
     "metadata": {},
     "output_type": "execute_result"
    }
   ],
   "source": [
    "merged_2009.groupby('Country').count()['project_id']"
   ]
  },
  {
   "cell_type": "markdown",
   "metadata": {},
   "source": [
    "None for Turkey and only 1 for Brazil and China. "
   ]
  },
  {
   "cell_type": "code",
   "execution_count": null,
   "metadata": {
    "collapsed": true
   },
   "outputs": [],
   "source": []
  }
 ],
 "metadata": {
  "kernelspec": {
   "display_name": "Python 3",
   "language": "python",
   "name": "python3"
  },
  "language_info": {
   "codemirror_mode": {
    "name": "ipython",
    "version": 3
   },
   "file_extension": ".py",
   "mimetype": "text/x-python",
   "name": "python",
   "nbconvert_exporter": "python",
   "pygments_lexer": "ipython3",
   "version": "3.4.3"
  }
 },
 "nbformat": 4,
 "nbformat_minor": 0
}
