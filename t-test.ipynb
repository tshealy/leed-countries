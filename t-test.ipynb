{
 "cells": [
  {
   "cell_type": "code",
   "execution_count": 1,
   "metadata": {
    "collapsed": true
   },
   "outputs": [],
   "source": [
    "import pandas as pd\n",
    "import itertools\n",
    "import numpy as np\n",
    "from scipy import stats\n",
    "from scipy.stats import ttest_ind\n",
    "import matplotlib.pyplot as plt\n",
    "%matplotlib inline"
   ]
  },
  {
   "cell_type": "code",
   "execution_count": 2,
   "metadata": {
    "collapsed": false
   },
   "outputs": [
    {
     "name": "stderr",
     "output_type": "stream",
     "text": [
      "/Users/trippshealy/Gdrive/research/leed_countries/.direnv/python-3.4.3/lib/python3.4/site-packages/pandas/io/parsers.py:1170: DtypeWarning: Columns (9) have mixed types. Specify dtype option on import or set low_memory=False.\n",
      "  data = self._reader.read(nrows)\n"
     ]
    }
   ],
   "source": [
    "buildings_all = pd.read_csv(\"original_data/PublicLEEDProjectDirectory.csv\", skiprows=3, encoding=\"ISO-8859-1\")\n",
    "buildings_all = buildings_all[buildings_all['Isconfidential'] == 'No']"
   ]
  },
  {
   "cell_type": "code",
   "execution_count": 3,
   "metadata": {
    "collapsed": true
   },
   "outputs": [],
   "source": [
    "buildings_2009 = buildings_all[buildings_all[\"LEEDSystemVersionDisplayName\"] == \"LEED-NC v2009\"] \n",
    "buildings_v2_2 = buildings_all[buildings_all[\"LEEDSystemVersionDisplayName\"] == \"LEED-NC 2.2\"] \n",
    "buildings_v2_1 = buildings_all[buildings_all[\"LEEDSystemVersionDisplayName\"] == \"LEED-NC 2.1\"] "
   ]
  },
  {
   "cell_type": "code",
   "execution_count": 108,
   "metadata": {
    "collapsed": true
   },
   "outputs": [],
   "source": [
    "#this list came from the mean_median_mode notebook, see my_filter_2009 \n",
    "# list_2009 = ['AE', 'BR', 'CL', 'CN', 'DE', 'ES', 'KR', 'MX', 'SE', 'TR', 'US']\n",
    "list_2009 = ['BR', 'CN', 'TR', 'US']\n",
    "list_v2_2 = ['AE', 'CN', 'US']"
   ]
  },
  {
   "cell_type": "code",
   "execution_count": 91,
   "metadata": {
    "collapsed": true
   },
   "outputs": [],
   "source": [
    "def my_filter_2009(df):\n",
    "    countries = df.dropna(subset = ['PointsAchieved'])\n",
    "    countries['PointsAchieved'] = countries['PointsAchieved'].convert_objects(convert_numeric=True)\n",
    "    countries = countries[countries['PointsAchieved'] > 39]\n",
    "    return(countries)"
   ]
  },
  {
   "cell_type": "code",
   "execution_count": 106,
   "metadata": {
    "collapsed": false
   },
   "outputs": [],
   "source": [
    "def my_t_test(a_list, df):\n",
    "    my_list = itertools.combinations(a_list, 2)\n",
    "    cleaned_df = my_filter_2009(df)\n",
    "    stat_difference = []\n",
    "    for i in my_list:\n",
    "        a, b = i\n",
    "        one = cleaned_df[cleaned_df['Country'] == a].PointsAchieved\n",
    "        two = cleaned_df[cleaned_df['Country'] == b].PointsAchieved\n",
    "        t, p = ttest_ind(one, two, equal_var=False)\n",
    "        if p <= 0.05:\n",
    "            stat_difference.append({i: (t, p)})\n",
    "    return(stat_difference)\n",
    "#         print(\"{}: {}, {}\".format(i,t,p))"
   ]
  },
  {
   "cell_type": "code",
   "execution_count": 109,
   "metadata": {
    "collapsed": false
   },
   "outputs": [
    {
     "name": "stdout",
     "output_type": "stream",
     "text": [
      "('BR', 'CN'): -3.1990725681249867, 0.001857917768835207\n",
      "('BR', 'TR'): -4.0505527605106915, 9.713519257247236e-05\n",
      "('BR', 'US'): -0.308562677499601, 0.7588697699619349\n",
      "('CN', 'TR'): -1.8030268880296476, 0.07452641659971383\n",
      "('CN', 'US'): 5.125570307810742, 8.65785102291449e-07\n",
      "('TR', 'US'): 4.962506708162, 6.031018795058638e-06\n"
     ]
    },
    {
     "name": "stderr",
     "output_type": "stream",
     "text": [
      "/Users/trippshealy/Gdrive/research/leed_countries/.direnv/python-3.4.3/lib/python3.4/site-packages/ipykernel/__main__.py:3: SettingWithCopyWarning: \n",
      "A value is trying to be set on a copy of a slice from a DataFrame.\n",
      "Try using .loc[row_indexer,col_indexer] = value instead\n",
      "\n",
      "See the the caveats in the documentation: http://pandas.pydata.org/pandas-docs/stable/indexing.html#indexing-view-versus-copy\n",
      "  app.launch_new_instance()\n"
     ]
    }
   ],
   "source": [
    "my_t_test(list_2009, buildings_2009)"
   ]
  },
  {
   "cell_type": "markdown",
   "metadata": {},
   "source": [
    "We looked at the Countires with at least 50 buidlings meeting the certified level for LEED 2009 NC. Inottoatl there were Four countries: Brazil, China, US, and Turkey. Also very different parts of the world with varying culture. Brazil performs the worst, China out performs the US, Turkey out performs all of them. "
   ]
  },
  {
   "cell_type": "code",
   "execution_count": 107,
   "metadata": {
    "collapsed": false
   },
   "outputs": [
    {
     "name": "stdout",
     "output_type": "stream",
     "text": [
      "('AE', 'CN'): -1.7946247891352716, 0.07842630018844367\n",
      "('AE', 'US'): -1.5356676076026352, 0.1390701411563204\n",
      "('CN', 'US'): 1.0639860270720294, 0.2951417804554771\n"
     ]
    },
    {
     "name": "stderr",
     "output_type": "stream",
     "text": [
      "/Users/trippshealy/Gdrive/research/leed_countries/.direnv/python-3.4.3/lib/python3.4/site-packages/ipykernel/__main__.py:3: SettingWithCopyWarning: \n",
      "A value is trying to be set on a copy of a slice from a DataFrame.\n",
      "Try using .loc[row_indexer,col_indexer] = value instead\n",
      "\n",
      "See the the caveats in the documentation: http://pandas.pydata.org/pandas-docs/stable/indexing.html#indexing-view-versus-copy\n",
      "  app.launch_new_instance()\n"
     ]
    }
   ],
   "source": [
    "my_t_test(list_v2_2, buildings_v2_2)"
   ]
  },
  {
   "cell_type": "code",
   "execution_count": null,
   "metadata": {
    "collapsed": true
   },
   "outputs": [],
   "source": [
    "#Shoiwng the Frequency Certification for each level "
   ]
  }
 ],
 "metadata": {
  "kernelspec": {
   "display_name": "Python 3",
   "language": "python",
   "name": "python3"
  },
  "language_info": {
   "codemirror_mode": {
    "name": "ipython",
    "version": 3
   },
   "file_extension": ".py",
   "mimetype": "text/x-python",
   "name": "python",
   "nbconvert_exporter": "python",
   "pygments_lexer": "ipython3",
   "version": "3.4.3"
  }
 },
 "nbformat": 4,
 "nbformat_minor": 0
}
